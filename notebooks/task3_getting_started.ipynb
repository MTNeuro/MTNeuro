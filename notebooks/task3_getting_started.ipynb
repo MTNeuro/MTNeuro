{
 "cells": [
  {
   "cell_type": "markdown",
   "metadata": {},
   "source": [
    "# Getting Started: Multi-Task Decoding (Task 3)\n",
    "\n",
    "This notebook takes in an encoder and computes R2 scores between embeddings and different Semantic features as part of of Task 3."
   ]
  },
  {
   "cell_type": "markdown",
   "metadata": {},
   "source": [
    "### Install the required packages"
   ]
  },
  {
   "cell_type": "code",
   "execution_count": 1,
   "metadata": {},
   "outputs": [
    {
     "name": "stdout",
     "output_type": "stream",
     "text": [
      "Looking in indexes: https://pypi.org/simple, https://download.pytorch.org/whl/cu102\n",
      "Requirement already satisfied: torch in /home/jpacora3/.local/lib/python3.8/site-packages (1.11.0)\n",
      "Requirement already satisfied: torchvision in /home/jpacora3/.local/lib/python3.8/site-packages (0.12.0)\n",
      "Requirement already satisfied: typing-extensions in /home/jpacora3/.local/lib/python3.8/site-packages (from torch) (4.2.0)\n",
      "Requirement already satisfied: pillow!=8.3.*,>=5.3.0 in /home/jpacora3/miniconda3/envs/mtneuro/lib/python3.8/site-packages (from torchvision) (9.1.1)\n",
      "Requirement already satisfied: requests in /home/jpacora3/miniconda3/envs/mtneuro/lib/python3.8/site-packages (from torchvision) (2.28.0)\n",
      "Requirement already satisfied: numpy in /home/jpacora3/.local/lib/python3.8/site-packages (from torchvision) (1.22.4)\n",
      "Requirement already satisfied: charset-normalizer~=2.0.0 in /home/jpacora3/miniconda3/envs/mtneuro/lib/python3.8/site-packages (from requests->torchvision) (2.0.12)\n",
      "Requirement already satisfied: urllib3<1.27,>=1.21.1 in /home/jpacora3/miniconda3/envs/mtneuro/lib/python3.8/site-packages (from requests->torchvision) (1.26.9)\n",
      "Requirement already satisfied: certifi>=2017.4.17 in /home/jpacora3/miniconda3/envs/mtneuro/lib/python3.8/site-packages (from requests->torchvision) (2022.6.15)\n",
      "Requirement already satisfied: idna<4,>=2.5 in /home/jpacora3/miniconda3/envs/mtneuro/lib/python3.8/site-packages (from requests->torchvision) (3.3)\n",
      "Looking in indexes: https://pypi.org/simple, https://download.pytorch.org/whl/cu113\n",
      "Requirement already satisfied: torch in /home/jpacora3/.local/lib/python3.8/site-packages (1.11.0)\n",
      "Requirement already satisfied: torchvision in /home/jpacora3/.local/lib/python3.8/site-packages (0.12.0)\n",
      "Requirement already satisfied: typing-extensions in /home/jpacora3/.local/lib/python3.8/site-packages (from torch) (4.2.0)\n",
      "Requirement already satisfied: pillow!=8.3.*,>=5.3.0 in /home/jpacora3/miniconda3/envs/mtneuro/lib/python3.8/site-packages (from torchvision) (9.1.1)\n",
      "Requirement already satisfied: numpy in /home/jpacora3/.local/lib/python3.8/site-packages (from torchvision) (1.22.4)\n",
      "Requirement already satisfied: requests in /home/jpacora3/miniconda3/envs/mtneuro/lib/python3.8/site-packages (from torchvision) (2.28.0)\n",
      "Requirement already satisfied: idna<4,>=2.5 in /home/jpacora3/miniconda3/envs/mtneuro/lib/python3.8/site-packages (from requests->torchvision) (3.3)\n",
      "Requirement already satisfied: charset-normalizer~=2.0.0 in /home/jpacora3/miniconda3/envs/mtneuro/lib/python3.8/site-packages (from requests->torchvision) (2.0.12)\n",
      "Requirement already satisfied: urllib3<1.27,>=1.21.1 in /home/jpacora3/miniconda3/envs/mtneuro/lib/python3.8/site-packages (from requests->torchvision) (1.26.9)\n",
      "Requirement already satisfied: certifi>=2017.4.17 in /home/jpacora3/miniconda3/envs/mtneuro/lib/python3.8/site-packages (from requests->torchvision) (2022.6.15)\n",
      "Obtaining file:///home/jpacora3/Documents/Code/MTNeuro\n",
      "Collecting segmentation-models-pytorch@ https://github.com/qubvel/segmentation_models.pytorch/archive/740dab561ccf54a9ae4bb5bda3b8b18df3790025.zip#egg=segmentation-models-pytorch-0.3.0-dev\n",
      "  Using cached https://github.com/qubvel/segmentation_models.pytorch/archive/740dab561ccf54a9ae4bb5bda3b8b18df3790025.zip\n",
      "  Installing build dependencies ... \u001b[?25ldone\n",
      "\u001b[?25h  Getting requirements to build wheel ... \u001b[?25ldone\n",
      "\u001b[?25h    Preparing wheel metadata ... \u001b[?25ldone\n",
      "\u001b[?25hRequirement already satisfied: numpy in /home/jpacora3/.local/lib/python3.8/site-packages (from mtneuro==1.0.0) (1.22.4)\n",
      "Requirement already satisfied: matplotlib in /home/jpacora3/.local/lib/python3.8/site-packages (from mtneuro==1.0.0) (3.5.2)\n",
      "Requirement already satisfied: scikit-learn in /home/jpacora3/.local/lib/python3.8/site-packages (from mtneuro==1.0.0) (1.1.1)\n",
      "Requirement already satisfied: tqdm in /home/jpacora3/.local/lib/python3.8/site-packages (from mtneuro==1.0.0) (4.64.0)\n",
      "Requirement already satisfied: Pillow in /home/jpacora3/miniconda3/envs/mtneuro/lib/python3.8/site-packages (from mtneuro==1.0.0) (9.1.1)\n",
      "Requirement already satisfied: intern in /home/jpacora3/.local/lib/python3.8/site-packages (from mtneuro==1.0.0) (1.2.0)\n",
      "Requirement already satisfied: umap-learn in /home/jpacora3/.local/lib/python3.8/site-packages (from mtneuro==1.0.0) (0.5.3)\n",
      "Requirement already satisfied: torchsummary in /home/jpacora3/.local/lib/python3.8/site-packages (from mtneuro==1.0.0) (1.5.1)\n",
      "Requirement already satisfied: torchvision>=0.5.0 in /home/jpacora3/.local/lib/python3.8/site-packages (from mtneuro==1.0.0) (0.12.0)\n",
      "Requirement already satisfied: pretrainedmodels==0.7.4 in /home/jpacora3/.local/lib/python3.8/site-packages (from mtneuro==1.0.0) (0.7.4)\n",
      "Requirement already satisfied: efficientnet-pytorch==0.6.3 in /home/jpacora3/.local/lib/python3.8/site-packages (from mtneuro==1.0.0) (0.6.3)\n",
      "Requirement already satisfied: timm==0.4.12 in /home/jpacora3/.local/lib/python3.8/site-packages (from mtneuro==1.0.0) (0.4.12)\n",
      "Requirement already satisfied: rich in /home/jpacora3/.local/lib/python3.8/site-packages (from mtneuro==1.0.0) (12.4.4)\n",
      "Requirement already satisfied: opencv-python in /home/jpacora3/.local/lib/python3.8/site-packages (from mtneuro==1.0.0) (4.6.0.66)\n",
      "Requirement already satisfied: einops in /home/jpacora3/.local/lib/python3.8/site-packages (from mtneuro==1.0.0) (0.4.1)\n",
      "Requirement already satisfied: kornia==0.6.0 in /home/jpacora3/miniconda3/envs/mtneuro/lib/python3.8/site-packages (from mtneuro==1.0.0) (0.6.0)\n",
      "Requirement already satisfied: connected-components-3d in /home/jpacora3/.local/lib/python3.8/site-packages (from mtneuro==1.0.0) (3.10.0)\n",
      "Requirement already satisfied: torch in /home/jpacora3/.local/lib/python3.8/site-packages (from efficientnet-pytorch==0.6.3->mtneuro==1.0.0) (1.11.0)\n",
      "Requirement already satisfied: packaging in /home/jpacora3/.local/lib/python3.8/site-packages (from kornia==0.6.0->mtneuro==1.0.0) (21.3)\n",
      "Requirement already satisfied: munch in /home/jpacora3/.local/lib/python3.8/site-packages (from pretrainedmodels==0.7.4->mtneuro==1.0.0) (2.5.0)\n",
      "Requirement already satisfied: typing-extensions in /home/jpacora3/.local/lib/python3.8/site-packages (from torch->efficientnet-pytorch==0.6.3->mtneuro==1.0.0) (4.2.0)\n",
      "Requirement already satisfied: requests in /home/jpacora3/miniconda3/envs/mtneuro/lib/python3.8/site-packages (from torchvision>=0.5.0->mtneuro==1.0.0) (2.28.0)\n",
      "Requirement already satisfied: blosc>=1.4.4 in /home/jpacora3/.local/lib/python3.8/site-packages (from intern->mtneuro==1.0.0) (1.10.6)\n",
      "Requirement already satisfied: six in /home/jpacora3/miniconda3/envs/mtneuro/lib/python3.8/site-packages (from intern->mtneuro==1.0.0) (1.16.0)\n",
      "Requirement already satisfied: nose2 in /home/jpacora3/.local/lib/python3.8/site-packages (from intern->mtneuro==1.0.0) (0.11.0)\n",
      "Requirement already satisfied: mock in /home/jpacora3/.local/lib/python3.8/site-packages (from intern->mtneuro==1.0.0) (4.0.3)\n",
      "Requirement already satisfied: zmesh in /home/jpacora3/.local/lib/python3.8/site-packages (from intern->mtneuro==1.0.0) (1.4.2)\n",
      "Requirement already satisfied: charset-normalizer~=2.0.0 in /home/jpacora3/miniconda3/envs/mtneuro/lib/python3.8/site-packages (from requests->torchvision>=0.5.0->mtneuro==1.0.0) (2.0.12)\n",
      "Requirement already satisfied: idna<4,>=2.5 in /home/jpacora3/miniconda3/envs/mtneuro/lib/python3.8/site-packages (from requests->torchvision>=0.5.0->mtneuro==1.0.0) (3.3)\n",
      "Requirement already satisfied: urllib3<1.27,>=1.21.1 in /home/jpacora3/miniconda3/envs/mtneuro/lib/python3.8/site-packages (from requests->torchvision>=0.5.0->mtneuro==1.0.0) (1.26.9)\n",
      "Requirement already satisfied: certifi>=2017.4.17 in /home/jpacora3/miniconda3/envs/mtneuro/lib/python3.8/site-packages (from requests->torchvision>=0.5.0->mtneuro==1.0.0) (2022.6.15)\n",
      "Requirement already satisfied: python-dateutil>=2.7 in /home/jpacora3/.local/lib/python3.8/site-packages (from matplotlib->mtneuro==1.0.0) (2.8.2)\n",
      "Requirement already satisfied: pyparsing>=2.2.1 in /home/jpacora3/.local/lib/python3.8/site-packages (from matplotlib->mtneuro==1.0.0) (3.0.9)\n",
      "Requirement already satisfied: kiwisolver>=1.0.1 in /home/jpacora3/.local/lib/python3.8/site-packages (from matplotlib->mtneuro==1.0.0) (1.4.3)\n",
      "Requirement already satisfied: fonttools>=4.22.0 in /home/jpacora3/.local/lib/python3.8/site-packages (from matplotlib->mtneuro==1.0.0) (4.33.3)\n",
      "Requirement already satisfied: cycler>=0.10 in /home/jpacora3/.local/lib/python3.8/site-packages (from matplotlib->mtneuro==1.0.0) (0.11.0)\n"
     ]
    },
    {
     "name": "stdout",
     "output_type": "stream",
     "text": [
      "Requirement already satisfied: coverage>=4.4.1 in /home/jpacora3/.local/lib/python3.8/site-packages (from nose2->intern->mtneuro==1.0.0) (6.4.1)\n",
      "Requirement already satisfied: commonmark<0.10.0,>=0.9.0 in /home/jpacora3/.local/lib/python3.8/site-packages (from rich->mtneuro==1.0.0) (0.9.1)\n",
      "Requirement already satisfied: pygments<3.0.0,>=2.6.0 in /home/jpacora3/.local/lib/python3.8/site-packages (from rich->mtneuro==1.0.0) (2.12.0)\n",
      "Requirement already satisfied: joblib>=1.0.0 in /home/jpacora3/.local/lib/python3.8/site-packages (from scikit-learn->mtneuro==1.0.0) (1.1.0)\n",
      "Requirement already satisfied: scipy>=1.3.2 in /home/jpacora3/.local/lib/python3.8/site-packages (from scikit-learn->mtneuro==1.0.0) (1.8.1)\n",
      "Requirement already satisfied: threadpoolctl>=2.0.0 in /home/jpacora3/.local/lib/python3.8/site-packages (from scikit-learn->mtneuro==1.0.0) (3.1.0)\n",
      "Requirement already satisfied: pynndescent>=0.5 in /home/jpacora3/.local/lib/python3.8/site-packages (from umap-learn->mtneuro==1.0.0) (0.5.7)\n",
      "Requirement already satisfied: numba>=0.49 in /home/jpacora3/.local/lib/python3.8/site-packages (from umap-learn->mtneuro==1.0.0) (0.55.2)\n",
      "Requirement already satisfied: setuptools in /home/jpacora3/miniconda3/envs/mtneuro/lib/python3.8/site-packages (from numba>=0.49->umap-learn->mtneuro==1.0.0) (61.2.0)\n",
      "Requirement already satisfied: llvmlite<0.39,>=0.38.0rc1 in /home/jpacora3/.local/lib/python3.8/site-packages (from numba>=0.49->umap-learn->mtneuro==1.0.0) (0.38.1)\n",
      "Installing collected packages: mtneuro\n",
      "  Attempting uninstall: mtneuro\n",
      "    Found existing installation: mtneuro 1.0.0\n",
      "    Uninstalling mtneuro-1.0.0:\n",
      "      Successfully uninstalled mtneuro-1.0.0\n",
      "  Running setup.py develop for mtneuro\n",
      "Successfully installed mtneuro\n"
     ]
    }
   ],
   "source": [
    "#Download and install Pytorch for CUDA 10.2\n",
    "!pip install torch torchvision --extra-index-url https://download.pytorch.org/whl/cu102\n",
    "#Download and install Pytorch for CUDA 11.3\n",
    "!pip install torch torchvision --extra-index-url https://download.pytorch.org/whl/cu113\n",
    "    \n",
    "!pip install -e ../"
   ]
  },
  {
   "cell_type": "markdown",
   "metadata": {},
   "source": [
    "### Import the Required Packages"
   ]
  },
  {
   "cell_type": "code",
   "execution_count": 7,
   "metadata": {},
   "outputs": [],
   "source": [
    "#Import libraries\n",
    "import os\n",
    "import sys\n",
    "import json\n",
    "import torch\n",
    "import math\n",
    "import numpy as np\n",
    "from matplotlib import cm\n",
    "import matplotlib.pyplot as plt\n",
    "import argparse\n",
    "import umap\n",
    "\n",
    "#PyTorch imports\n",
    "from torch.utils.data import DataLoader\n",
    "import torch.multiprocessing as mp\n",
    "import torch.nn.functional as F\n",
    "\n",
    "#Sci-kit learn imports\n",
    "from sklearn.linear_model import LinearRegression\n",
    "from sklearn.neural_network import MLPRegressor\n",
    "from sklearn import preprocessing\n",
    "from sklearn.decomposition import PCA\n",
    "\n",
    "#MTNeuro modules\n",
    "sys.path.append('../')                 #setting the location to look for the required packages\n",
    "from MTNeuro.annots.features import extract_cell_stats,extract_axon_stats,extract_blood_stats\n",
    "from MTNeuro.annots.get_cutouts import get_cutout_data\n",
    "from MTNeuro.annots.latents import get_latents, get_unsup_latents\n"
   ]
  },
  {
   "cell_type": "markdown",
   "metadata": {},
   "source": [
    "### Load the Encoder\n",
    "\n",
    "The encoder file path **and** the encoder type is required here. \n",
    "\n",
    "Any of the models used in Task 1 can be used as an encoder. They can be found here: [[Dropbox](https://www.dropbox.com/home/MTNeuro/Models/Task1)]\n",
    "\n",
    "The encoder types are `ssl`, `supervised`, `PCA`, and `NMF`."
   ]
  },
  {
   "cell_type": "code",
   "execution_count": 8,
   "metadata": {},
   "outputs": [],
   "source": [
    "#In this demo, BYOL is used. \n",
    "#TODO: Download the model weights for BYOL from the Dropbox and place the file in the same directory as this notebook.\n",
    "\n",
    "encoder_file_path = \"ckpt-800.pt\"\n",
    "encoder_type = \"ssl\"\n",
    "\n",
    "#--Do not motify below--\n",
    "if encoder_type == 'ssl':\n",
    "    ssl_encoder = 1\n",
    "    unsupervised = 0\n",
    "elif encoder_type == 'supervised':\n",
    "    ssl_encoder =  0\n",
    "    unsupervised = 0\n",
    "elif encoder_type == 'PCA': \n",
    "    unsupervised = 1\n",
    "    set_pca = 1\n",
    "elif encoder_type == 'NMF':\n",
    "    unsupervised = 1\n",
    "    set_pca = 0\n",
    "else:\n",
    "    print(\"Incorrectly specified encoder type\")"
   ]
  },
  {
   "cell_type": "markdown",
   "metadata": {},
   "source": [
    "### Specify Cutout Coordinates\n",
    "\n",
    "Cutout coordinates are specified in the task 3 JSON file found at MTNeuro/taskconfig/task3.json."
   ]
  },
  {
   "cell_type": "code",
   "execution_count": 9,
   "metadata": {},
   "outputs": [],
   "source": [
    "config_file_path = \"../MTNeuro/taskconfig/task3.json\"\n",
    "\n",
    "try:\n",
    "    jsonFile = open(config_file_path, 'r')\n",
    "    slices = json.load(jsonFile)\n",
    "except IOError:\n",
    "    print(\"JSON file not found.\")\n",
    "jsonFile.close()    "
   ]
  },
  {
   "cell_type": "markdown",
   "metadata": {},
   "source": [
    "#### Downloading Annotations Specified in JSON File\n",
    "\n",
    "Each cutout from each region of the brain has shape (Z,Y,X) = (360,256,256). \n",
    "\n",
    "All 4 cutouts are concatenated together along the z-axis to form `data_array_raw` and `data_array_anno`, which both have shape (1440,256,256)."
   ]
  },
  {
   "cell_type": "code",
   "execution_count": 10,
   "metadata": {},
   "outputs": [
    {
     "name": "stderr",
     "output_type": "stream",
     "text": [
      "/nethome/jpacora3/.local/lib/python3.8/site-packages/intern/remote/remote.py:100: DeprecationWarning: This method will be removed in future versions.  Use 'parser.read_file()' instead.\n",
      "  cfg_parser.readfp(config_handle)\n"
     ]
    },
    {
     "name": "stdout",
     "output_type": "stream",
     "text": [
      "Downloading annos...\n"
     ]
    },
    {
     "name": "stderr",
     "output_type": "stream",
     "text": [
      "/nethome/jpacora3/.local/lib/python3.8/site-packages/intern/service/boss/v1/volume.py:299: DeprecationWarning: The binary mode of fromstring is deprecated, as it behaves surprisingly on unicode inputs. Use frombuffer instead\n",
      "  data_mat = np.fromstring(raw_data, dtype=resource.datatype)\n",
      "/nethome/jpacora3/.local/lib/python3.8/site-packages/intern/service/boss/v1/volume.py:299: DeprecationWarning: The binary mode of fromstring is deprecated, as it behaves surprisingly on unicode inputs. Use frombuffer instead\n",
      "  data_mat = np.fromstring(raw_data, dtype=resource.datatype)\n",
      "/nethome/jpacora3/.local/lib/python3.8/site-packages/intern/remote/remote.py:100: DeprecationWarning: This method will be removed in future versions.  Use 'parser.read_file()' instead.\n",
      "  cfg_parser.readfp(config_handle)\n"
     ]
    },
    {
     "name": "stdout",
     "output_type": "stream",
     "text": [
      "Downloading annos...\n"
     ]
    },
    {
     "name": "stderr",
     "output_type": "stream",
     "text": [
      "/nethome/jpacora3/.local/lib/python3.8/site-packages/intern/service/boss/v1/volume.py:299: DeprecationWarning: The binary mode of fromstring is deprecated, as it behaves surprisingly on unicode inputs. Use frombuffer instead\n",
      "  data_mat = np.fromstring(raw_data, dtype=resource.datatype)\n",
      "/nethome/jpacora3/.local/lib/python3.8/site-packages/intern/service/boss/v1/volume.py:299: DeprecationWarning: The binary mode of fromstring is deprecated, as it behaves surprisingly on unicode inputs. Use frombuffer instead\n",
      "  data_mat = np.fromstring(raw_data, dtype=resource.datatype)\n",
      "/nethome/jpacora3/.local/lib/python3.8/site-packages/intern/remote/remote.py:100: DeprecationWarning: This method will be removed in future versions.  Use 'parser.read_file()' instead.\n",
      "  cfg_parser.readfp(config_handle)\n"
     ]
    },
    {
     "name": "stdout",
     "output_type": "stream",
     "text": [
      "Downloading annos...\n"
     ]
    },
    {
     "name": "stderr",
     "output_type": "stream",
     "text": [
      "/nethome/jpacora3/.local/lib/python3.8/site-packages/intern/service/boss/v1/volume.py:299: DeprecationWarning: The binary mode of fromstring is deprecated, as it behaves surprisingly on unicode inputs. Use frombuffer instead\n",
      "  data_mat = np.fromstring(raw_data, dtype=resource.datatype)\n",
      "/nethome/jpacora3/.local/lib/python3.8/site-packages/intern/service/boss/v1/volume.py:299: DeprecationWarning: The binary mode of fromstring is deprecated, as it behaves surprisingly on unicode inputs. Use frombuffer instead\n",
      "  data_mat = np.fromstring(raw_data, dtype=resource.datatype)\n",
      "/nethome/jpacora3/.local/lib/python3.8/site-packages/intern/remote/remote.py:100: DeprecationWarning: This method will be removed in future versions.  Use 'parser.read_file()' instead.\n",
      "  cfg_parser.readfp(config_handle)\n"
     ]
    },
    {
     "name": "stdout",
     "output_type": "stream",
     "text": [
      "Downloading annos...\n"
     ]
    },
    {
     "name": "stderr",
     "output_type": "stream",
     "text": [
      "/nethome/jpacora3/.local/lib/python3.8/site-packages/intern/service/boss/v1/volume.py:299: DeprecationWarning: The binary mode of fromstring is deprecated, as it behaves surprisingly on unicode inputs. Use frombuffer instead\n",
      "  data_mat = np.fromstring(raw_data, dtype=resource.datatype)\n",
      "/nethome/jpacora3/.local/lib/python3.8/site-packages/intern/service/boss/v1/volume.py:299: DeprecationWarning: The binary mode of fromstring is deprecated, as it behaves surprisingly on unicode inputs. Use frombuffer instead\n",
      "  data_mat = np.fromstring(raw_data, dtype=resource.datatype)\n"
     ]
    }
   ],
   "source": [
    "#Retrieving Data from JSON\n",
    "xrange_list = [slices['xrange_cor'],slices['xrange_stri'],slices['xrange_vp'],slices['xrange_zi']]\n",
    "yrange_list = [slices['yrange_cor'],slices['yrange_stri'],slices['yrange_vp'],slices['yrange_zi']]\n",
    "class_list = [\"Cortex\",\"Striatum\",\"VP\",\"ZI\"]\n",
    "zrange = slices['zrange']\n",
    "\n",
    "\n",
    "boss_dict = {}\n",
    "boss_dict['image_chan']=slices['image_chan']\n",
    "boss_dict['annotation_chan'] = slices['annotation_chan']\n",
    "\n",
    "data_array_raw = []\n",
    "data_array_anno = []\n",
    "label_array  = []\n",
    "up_sample = 4 \n",
    "\n",
    "#Pulling Data from BossDB\n",
    "for i in range(0,len(xrange_list)):\n",
    "    cutout_data_raw,cutout_data_anno = get_cutout_data(xrange_list[i],yrange_list[i],zrange,name=class_list[i])\n",
    "    \n",
    "    data_raw = cutout_data_raw[:,:,:]\n",
    "    data_anno = cutout_data_anno[:,:,:]\n",
    "    data_array_raw = np.concatenate((data_array_raw,data_raw),axis =0 ) if len(data_array_raw) else data_raw \n",
    "    \n",
    "    data_array_anno = np.concatenate((data_array_anno,data_anno),axis =0 ) if len(data_array_anno) else data_anno\n",
    "    \n",
    "    labels = i*np.ones(up_sample*len(data_raw)).reshape(-1,)\n",
    "    label_array  = np.concatenate((label_array ,labels),axis =0) if len(labels) else labels_train"
   ]
  },
  {
   "cell_type": "markdown",
   "metadata": {},
   "source": [
    "### Extracting Features and Calculating Linear Readout Scores"
   ]
  },
  {
   "cell_type": "code",
   "execution_count": 11,
   "metadata": {},
   "outputs": [
    {
     "name": "stdout",
     "output_type": "stream",
     "text": [
      "Extracting cell stats...\n",
      "Extracting axon stats...\n",
      "Extracting blood stats...\n"
     ]
    },
    {
     "name": "stderr",
     "output_type": "stream",
     "text": [
      "/nethome/jpacora3/.local/lib/python3.8/site-packages/torchvision/transforms/transforms.py:332: UserWarning: Argument interpolation should be of type InterpolationMode instead of int. Please, use InterpolationMode enum.\n",
      "  warnings.warn(\n"
     ]
    },
    {
     "name": "stdout",
     "output_type": "stream",
     "text": [
      "Blood Vessel Score : 0.8648007211333276\n",
      "Cell Count Score:0.7727625596771552\n",
      "Avg Cell Distance Score :0.5300201201515609\n",
      "Cell Size Score:0.7125138695048551\n",
      "Axon Score: 0.9651299134830876\n"
     ]
    }
   ],
   "source": [
    "print('Extracting cell stats...')\n",
    "stats_cell= extract_cell_stats(np.copy(data_array_anno))\n",
    "\n",
    "print('Extracting axon stats...')\n",
    "stats_axon = extract_axon_stats(np.copy(data_array_anno))\n",
    "\n",
    "print('Extracting blood stats...')\n",
    "stats_blood = extract_blood_stats(np.copy(data_array_anno))\n",
    "\n",
    "'get results for different encoders'\n",
    "if encoder_type == 'ssl' or encoder_type == 'supervised':\n",
    "    embeddings = get_latents(data_array_raw,encoder_file_path,ssl_encoder)\n",
    "elif encoder_type == 'PCA' or encoder_type == 'NMF':\n",
    "    embeddings = get_unsup_latents(data_array_raw,set_pca)\n",
    "\n",
    "'Get linear readout scores'\n",
    "X = embeddings\n",
    "\n",
    "y = stats_blood[:,1]\n",
    "reg = LinearRegression().fit(X,y)\n",
    "blood_vsl_score = reg.score(embeddings,stats_blood[:,1])\n",
    "print(\"Blood Vessel Score : {}\".format(blood_vsl_score ))\n",
    "\n",
    "y = stats_cell[:,1]\n",
    "reg = LinearRegression().fit(X,y)\n",
    "numb_cell = reg.score(embeddings,stats_cell[:,1])\n",
    "print(\"Cell Count Score:{}\".format(numb_cell))\n",
    "\n",
    "y = stats_cell[:,2]\n",
    "reg = LinearRegression().fit(X,y)\n",
    "avg_dist_nn_cell = reg.score(embeddings,stats_cell[:,2])\n",
    "print(\"Avg Cell Distance Score :{}\".format(avg_dist_nn_cell ))\n",
    "\n",
    "y = stats_cell[:,4]\n",
    "reg = LinearRegression().fit(X,y)\n",
    "cell_size = reg.score(embeddings,stats_cell[:,4])\n",
    "print(\"Cell Size Score:{}\".format(cell_size))\n",
    "\n",
    "y = stats_axon[:,1]\n",
    "reg = LinearRegression().fit(X,y)\n",
    "axon_rslt = reg.score(embeddings,stats_axon[:,1])\n",
    "print(\"Axon Score: {}\".format(axon_rslt ))"
   ]
  },
  {
   "cell_type": "code",
   "execution_count": null,
   "metadata": {},
   "outputs": [],
   "source": []
  }
 ],
 "metadata": {
  "interpreter": {
   "hash": "9f4108ecf01062aca25e5dc86ed0d2b2584059290a9a8508cbbea0875ac6d25a"
  },
  "kernelspec": {
   "display_name": "Python 3 (ipykernel)",
   "language": "python",
   "name": "python3"
  },
  "language_info": {
   "codemirror_mode": {
    "name": "ipython",
    "version": 3
   },
   "file_extension": ".py",
   "mimetype": "text/x-python",
   "name": "python",
   "nbconvert_exporter": "python",
   "pygments_lexer": "ipython3",
   "version": "3.8.13"
  }
 },
 "nbformat": 4,
 "nbformat_minor": 4
}
