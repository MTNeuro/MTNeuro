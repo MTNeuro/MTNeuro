{
 "cells": [
  {
   "cell_type": "markdown",
   "metadata": {},
   "source": [
    "# Getting Started: Multi-Task Decoding (Task 3)\n",
    "\n",
    "This notebook takes in an encoder and computes R2 scores between embeddings and different Semantic features as part of of Task 3."
   ]
  },
  {
   "cell_type": "markdown",
   "metadata": {},
   "source": [
    "### Install the required packages"
   ]
  },
  {
   "cell_type": "code",
   "execution_count": 8,
   "metadata": {},
   "outputs": [
    {
     "name": "stdout",
     "output_type": "stream",
     "text": [
      "Looking in indexes: https://pypi.org/simple, https://download.pytorch.org/whl/cu102\n",
      "Requirement already satisfied: torch in c:\\users\\christopher liding\\appdata\\local\\programs\\python\\python310\\lib\\site-packages (1.11.0)\n",
      "Requirement already satisfied: torchvision in c:\\users\\christopher liding\\appdata\\local\\programs\\python\\python310\\lib\\site-packages (0.12.0)\n",
      "Requirement already satisfied: typing-extensions in c:\\users\\christopher liding\\appdata\\local\\programs\\python\\python310\\lib\\site-packages (from torch) (4.1.1)\n",
      "Requirement already satisfied: numpy in c:\\users\\christopher liding\\appdata\\local\\programs\\python\\python310\\lib\\site-packages (from torchvision) (1.22.2)\n",
      "Requirement already satisfied: pillow!=8.3.*,>=5.3.0 in c:\\users\\christopher liding\\appdata\\local\\programs\\python\\python310\\lib\\site-packages (from torchvision) (9.0.1)\n",
      "Requirement already satisfied: requests in c:\\users\\christopher liding\\appdata\\local\\programs\\python\\python310\\lib\\site-packages (from torchvision) (2.27.1)\n",
      "Requirement already satisfied: charset-normalizer~=2.0.0 in c:\\users\\christopher liding\\appdata\\local\\programs\\python\\python310\\lib\\site-packages (from requests->torchvision) (2.0.12)\n",
      "Requirement already satisfied: certifi>=2017.4.17 in c:\\users\\christopher liding\\appdata\\local\\programs\\python\\python310\\lib\\site-packages (from requests->torchvision) (2021.10.8)\n",
      "Requirement already satisfied: urllib3<1.27,>=1.21.1 in c:\\users\\christopher liding\\appdata\\local\\programs\\python\\python310\\lib\\site-packages (from requests->torchvision) (1.26.8)\n",
      "Requirement already satisfied: idna<4,>=2.5 in c:\\users\\christopher liding\\appdata\\local\\programs\\python\\python310\\lib\\site-packages (from requests->torchvision) (3.3)\n",
      "Looking in indexes: https://pypi.org/simple, https://download.pytorch.org/whl/cu113\n",
      "Requirement already satisfied: torch in c:\\users\\christopher liding\\appdata\\local\\programs\\python\\python310\\lib\\site-packages (1.11.0)\n",
      "Requirement already satisfied: torchvision in c:\\users\\christopher liding\\appdata\\local\\programs\\python\\python310\\lib\\site-packages (0.12.0)\n",
      "Requirement already satisfied: typing-extensions in c:\\users\\christopher liding\\appdata\\local\\programs\\python\\python310\\lib\\site-packages (from torch) (4.1.1)\n",
      "Requirement already satisfied: requests in c:\\users\\christopher liding\\appdata\\local\\programs\\python\\python310\\lib\\site-packages (from torchvision) (2.27.1)\n",
      "Requirement already satisfied: numpy in c:\\users\\christopher liding\\appdata\\local\\programs\\python\\python310\\lib\\site-packages (from torchvision) (1.22.2)\n",
      "Requirement already satisfied: pillow!=8.3.*,>=5.3.0 in c:\\users\\christopher liding\\appdata\\local\\programs\\python\\python310\\lib\\site-packages (from torchvision) (9.0.1)\n",
      "Requirement already satisfied: urllib3<1.27,>=1.21.1 in c:\\users\\christopher liding\\appdata\\local\\programs\\python\\python310\\lib\\site-packages (from requests->torchvision) (1.26.8)\n",
      "Requirement already satisfied: certifi>=2017.4.17 in c:\\users\\christopher liding\\appdata\\local\\programs\\python\\python310\\lib\\site-packages (from requests->torchvision) (2021.10.8)\n",
      "Requirement already satisfied: idna<4,>=2.5 in c:\\users\\christopher liding\\appdata\\local\\programs\\python\\python310\\lib\\site-packages (from requests->torchvision) (3.3)\n",
      "Requirement already satisfied: charset-normalizer~=2.0.0 in c:\\users\\christopher liding\\appdata\\local\\programs\\python\\python310\\lib\\site-packages (from requests->torchvision) (2.0.12)\n",
      "Obtaining file:///C:/Users/Christopher%20Liding/Documents/GitHub/MTNeuro\n",
      "  Preparing metadata (setup.py): started\n",
      "  Preparing metadata (setup.py): finished with status 'done'\n",
      "Collecting segmentation-models-pytorch@ https://github.com/qubvel/segmentation_models.pytorch/archive/740dab561ccf54a9ae4bb5bda3b8b18df3790025.zip#egg=segmentation-models-pytorch-0.3.0-dev\n",
      "  Using cached https://github.com/qubvel/segmentation_models.pytorch/archive/740dab561ccf54a9ae4bb5bda3b8b18df3790025.zip\n",
      "  Installing build dependencies: started\n",
      "  Installing build dependencies: finished with status 'done'\n",
      "  Getting requirements to build wheel: started\n",
      "  Getting requirements to build wheel: finished with status 'done'\n",
      "  Preparing metadata (pyproject.toml): started\n",
      "  Preparing metadata (pyproject.toml): finished with status 'done'\n",
      "Requirement already satisfied: numpy in c:\\users\\christopher liding\\appdata\\local\\programs\\python\\python310\\lib\\site-packages (from mtneuro==1.0.0) (1.22.2)\n",
      "Requirement already satisfied: matplotlib in c:\\users\\christopher liding\\appdata\\local\\programs\\python\\python310\\lib\\site-packages (from mtneuro==1.0.0) (3.5.2)\n",
      "Requirement already satisfied: scikit-learn in c:\\users\\christopher liding\\appdata\\local\\programs\\python\\python310\\lib\\site-packages (from mtneuro==1.0.0) (1.0.2)\n",
      "Requirement already satisfied: tqdm in c:\\users\\christopher liding\\appdata\\local\\programs\\python\\python310\\lib\\site-packages (from mtneuro==1.0.0) (4.64.0)\n",
      "Requirement already satisfied: Pillow in c:\\users\\christopher liding\\appdata\\local\\programs\\python\\python310\\lib\\site-packages (from mtneuro==1.0.0) (9.0.1)\n",
      "Requirement already satisfied: intern in c:\\users\\christopher liding\\appdata\\local\\programs\\python\\python310\\lib\\site-packages (from mtneuro==1.0.0) (1.2.0)\n",
      "Requirement already satisfied: umap-learn in c:\\users\\christopher liding\\appdata\\local\\programs\\python\\python310\\lib\\site-packages (from mtneuro==1.0.0) (0.5.3)\n",
      "Requirement already satisfied: torchsummary in c:\\users\\christopher liding\\appdata\\local\\programs\\python\\python310\\lib\\site-packages (from mtneuro==1.0.0) (1.5.1)\n",
      "Requirement already satisfied: torchvision>=0.5.0 in c:\\users\\christopher liding\\appdata\\local\\programs\\python\\python310\\lib\\site-packages (from mtneuro==1.0.0) (0.12.0)\n",
      "Requirement already satisfied: pretrainedmodels==0.7.4 in c:\\users\\christopher liding\\appdata\\local\\programs\\python\\python310\\lib\\site-packages (from mtneuro==1.0.0) (0.7.4)\n",
      "Requirement already satisfied: efficientnet-pytorch==0.6.3 in c:\\users\\christopher liding\\appdata\\local\\programs\\python\\python310\\lib\\site-packages (from mtneuro==1.0.0) (0.6.3)\n",
      "Requirement already satisfied: timm==0.4.12 in c:\\users\\christopher liding\\appdata\\local\\programs\\python\\python310\\lib\\site-packages (from mtneuro==1.0.0) (0.4.12)\n",
      "Requirement already satisfied: rich in c:\\users\\christopher liding\\appdata\\local\\programs\\python\\python310\\lib\\site-packages (from mtneuro==1.0.0) (12.4.4)\n",
      "Requirement already satisfied: opencv-python in c:\\users\\christopher liding\\appdata\\local\\programs\\python\\python310\\lib\\site-packages (from mtneuro==1.0.0) (4.6.0.66)\n",
      "Requirement already satisfied: einops in c:\\users\\christopher liding\\appdata\\local\\programs\\python\\python310\\lib\\site-packages (from mtneuro==1.0.0) (0.4.1)\n",
      "Requirement already satisfied: kornia==0.6.0 in c:\\users\\christopher liding\\appdata\\local\\programs\\python\\python310\\lib\\site-packages (from mtneuro==1.0.0) (0.6.0)\n",
      "Requirement already satisfied: connected-components-3d in c:\\users\\christopher liding\\appdata\\local\\programs\\python\\python310\\lib\\site-packages (from mtneuro==1.0.0) (3.10.1)\n",
      "Requirement already satisfied: torch in c:\\users\\christopher liding\\appdata\\local\\programs\\python\\python310\\lib\\site-packages (from efficientnet-pytorch==0.6.3->mtneuro==1.0.0) (1.11.0)\n",
      "Requirement already satisfied: packaging in c:\\users\\christopher liding\\appdata\\local\\programs\\python\\python310\\lib\\site-packages (from kornia==0.6.0->mtneuro==1.0.0) (21.3)\n",
      "Requirement already satisfied: munch in c:\\users\\christopher liding\\appdata\\local\\programs\\python\\python310\\lib\\site-packages (from pretrainedmodels==0.7.4->mtneuro==1.0.0) (2.5.0)\n",
      "Requirement already satisfied: requests in c:\\users\\christopher liding\\appdata\\local\\programs\\python\\python310\\lib\\site-packages (from torchvision>=0.5.0->mtneuro==1.0.0) (2.27.1)\n",
      "Requirement already satisfied: typing-extensions in c:\\users\\christopher liding\\appdata\\local\\programs\\python\\python310\\lib\\site-packages (from torchvision>=0.5.0->mtneuro==1.0.0) (4.1.1)\n",
      "Requirement already satisfied: six in c:\\users\\christopher liding\\appdata\\local\\programs\\python\\python310\\lib\\site-packages (from intern->mtneuro==1.0.0) (1.16.0)\n",
      "Requirement already satisfied: blosc>=1.4.4 in c:\\users\\christopher liding\\appdata\\local\\programs\\python\\python310\\lib\\site-packages (from intern->mtneuro==1.0.0) (1.10.6)\n",
      "Requirement already satisfied: nose2 in c:\\users\\christopher liding\\appdata\\local\\programs\\python\\python310\\lib\\site-packages (from intern->mtneuro==1.0.0) (0.11.0)\n",
      "Requirement already satisfied: mock in c:\\users\\christopher liding\\appdata\\local\\programs\\python\\python310\\lib\\site-packages (from intern->mtneuro==1.0.0) (4.0.3)\n",
      "Requirement already satisfied: zmesh in c:\\users\\christopher liding\\appdata\\local\\programs\\python\\python310\\lib\\site-packages (from intern->mtneuro==1.0.0) (1.4.2)\n",
      "Requirement already satisfied: cycler>=0.10 in c:\\users\\christopher liding\\appdata\\local\\programs\\python\\python310\\lib\\site-packages (from matplotlib->mtneuro==1.0.0) (0.11.0)\n",
      "Requirement already satisfied: python-dateutil>=2.7 in c:\\users\\christopher liding\\appdata\\local\\programs\\python\\python310\\lib\\site-packages (from matplotlib->mtneuro==1.0.0) (2.8.2)\n",
      "Requirement already satisfied: pyparsing>=2.2.1 in c:\\users\\christopher liding\\appdata\\local\\programs\\python\\python310\\lib\\site-packages (from matplotlib->mtneuro==1.0.0) (3.0.7)\n",
      "Requirement already satisfied: fonttools>=4.22.0 in c:\\users\\christopher liding\\appdata\\local\\programs\\python\\python310\\lib\\site-packages (from matplotlib->mtneuro==1.0.0) (4.29.1)\n",
      "Requirement already satisfied: kiwisolver>=1.0.1 in c:\\users\\christopher liding\\appdata\\local\\programs\\python\\python310\\lib\\site-packages (from matplotlib->mtneuro==1.0.0) (1.3.2)\n",
      "Requirement already satisfied: commonmark<0.10.0,>=0.9.0 in c:\\users\\christopher liding\\appdata\\local\\programs\\python\\python310\\lib\\site-packages (from rich->mtneuro==1.0.0) (0.9.1)\n",
      "Requirement already satisfied: pygments<3.0.0,>=2.6.0 in c:\\users\\christopher liding\\appdata\\local\\programs\\python\\python310\\lib\\site-packages (from rich->mtneuro==1.0.0) (2.12.0)\n",
      "Requirement already satisfied: scipy>=1.1.0 in c:\\users\\christopher liding\\appdata\\local\\programs\\python\\python310\\lib\\site-packages (from scikit-learn->mtneuro==1.0.0) (1.8.0)\n",
      "Requirement already satisfied: joblib>=0.11 in c:\\users\\christopher liding\\appdata\\local\\programs\\python\\python310\\lib\\site-packages (from scikit-learn->mtneuro==1.0.0) (1.1.0)\n",
      "Requirement already satisfied: threadpoolctl>=2.0.0 in c:\\users\\christopher liding\\appdata\\local\\programs\\python\\python310\\lib\\site-packages (from scikit-learn->mtneuro==1.0.0) (3.1.0)\n",
      "Requirement already satisfied: colorama in c:\\users\\christopher liding\\appdata\\local\\programs\\python\\python310\\lib\\site-packages (from tqdm->mtneuro==1.0.0) (0.4.4)\n",
      "Requirement already satisfied: pynndescent>=0.5 in c:\\users\\christopher liding\\appdata\\local\\programs\\python\\python310\\lib\\site-packages (from umap-learn->mtneuro==1.0.0) (0.5.7)\n",
      "Requirement already satisfied: numba>=0.49 in c:\\users\\christopher liding\\appdata\\local\\programs\\python\\python310\\lib\\site-packages (from umap-learn->mtneuro==1.0.0) (0.55.2)\n",
      "Requirement already satisfied: llvmlite<0.39,>=0.38.0rc1 in c:\\users\\christopher liding\\appdata\\local\\programs\\python\\python310\\lib\\site-packages (from numba>=0.49->umap-learn->mtneuro==1.0.0) (0.38.1)\n",
      "Requirement already satisfied: setuptools in c:\\users\\christopher liding\\appdata\\local\\programs\\python\\python310\\lib\\site-packages (from numba>=0.49->umap-learn->mtneuro==1.0.0) (58.1.0)\n",
      "Requirement already satisfied: urllib3<1.27,>=1.21.1 in c:\\users\\christopher liding\\appdata\\local\\programs\\python\\python310\\lib\\site-packages (from requests->torchvision>=0.5.0->mtneuro==1.0.0) (1.26.8)\n",
      "Requirement already satisfied: charset-normalizer~=2.0.0 in c:\\users\\christopher liding\\appdata\\local\\programs\\python\\python310\\lib\\site-packages (from requests->torchvision>=0.5.0->mtneuro==1.0.0) (2.0.12)\n",
      "Requirement already satisfied: certifi>=2017.4.17 in c:\\users\\christopher liding\\appdata\\local\\programs\\python\\python310\\lib\\site-packages (from requests->torchvision>=0.5.0->mtneuro==1.0.0) (2021.10.8)\n",
      "Requirement already satisfied: idna<4,>=2.5 in c:\\users\\christopher liding\\appdata\\local\\programs\\python\\python310\\lib\\site-packages (from requests->torchvision>=0.5.0->mtneuro==1.0.0) (3.3)\n",
      "Requirement already satisfied: coverage>=4.4.1 in c:\\users\\christopher liding\\appdata\\local\\programs\\python\\python310\\lib\\site-packages (from nose2->intern->mtneuro==1.0.0) (6.4)\n",
      "Installing collected packages: mtneuro\n",
      "  Attempting uninstall: mtneuro\n",
      "    Found existing installation: mtneuro 1.0.0\n",
      "    Uninstalling mtneuro-1.0.0:\n",
      "      Successfully uninstalled mtneuro-1.0.0\n",
      "  Running setup.py develop for mtneuro\n",
      "Successfully installed mtneuro-1.0.0\n"
     ]
    }
   ],
   "source": [
    "#Download and install Pytorch for CUDA 10.2\n",
    "!pip install torch torchvision --extra-index-url https://download.pytorch.org/whl/cu102\n",
    "#Download and install Pytorch for CUDA 11.3\n",
    "!pip install torch torchvision --extra-index-url https://download.pytorch.org/whl/cu113\n",
    "    \n",
    "!pip install -e ../"
   ]
  },
  {
   "cell_type": "markdown",
   "metadata": {},
   "source": [
    "### Import the Required Packages"
   ]
  },
  {
   "cell_type": "code",
   "execution_count": 9,
   "metadata": {},
   "outputs": [],
   "source": [
    "#Import libraries\n",
    "import os\n",
    "import sys\n",
    "import json\n",
    "import torch\n",
    "import math\n",
    "import numpy as np\n",
    "from matplotlib import cm\n",
    "import matplotlib.pyplot as plt\n",
    "import argparse\n",
    "import umap\n",
    "\n",
    "#PyTorch imports\n",
    "from torch.utils.data import DataLoader\n",
    "import torch.multiprocessing as mp\n",
    "import torch.nn.functional as F\n",
    "\n",
    "#Sci-kit learn imports\n",
    "from sklearn.linear_model import LinearRegression\n",
    "from sklearn.neural_network import MLPRegressor\n",
    "from sklearn import preprocessing\n",
    "from sklearn.decomposition import PCA\n",
    "\n",
    "#MTNeuro modules\n",
    "sys.path.append('../')                 #setting the location to look for the required packages\n",
    "from MTNeuro.annots.features import extract_cell_stats,extract_axon_stats,extract_blood_stats\n",
    "from MTNeuro.annots.get_cutouts import get_cutout_data\n",
    "from MTNeuro.annots.latents import get_latents, get_unsup_latents\n"
   ]
  },
  {
   "cell_type": "markdown",
   "metadata": {},
   "source": [
    "### Load the Encoder\n",
    "\n",
    "The encoder file path **and** the encoder type is required here. \n",
    "\n",
    "Any of the models used in Task 1 can be used as an encoder. They can be found here: [[Dropbox](https://www.dropbox.com/home/MTNeuro/Models/Task1)]\n",
    "\n",
    "The encoder types are `ssl`, `supervised`, `PCA`, and `NMF`."
   ]
  },
  {
   "cell_type": "code",
   "execution_count": 10,
   "metadata": {},
   "outputs": [],
   "source": [
    "#In this demo, BYOL is used. \n",
    "#TODO: Download the model weights for BYOL from the Dropbox and place the file in the same directory as this notebook.\n",
    "\n",
    "encoder_file_path = \"ckpt-800.pt\"\n",
    "encoder_type = \"ssl\"\n",
    "\n",
    "#--Do not motify below--\n",
    "if encoder_type == 'ssl':\n",
    "    ssl_encoder = 1\n",
    "    unsupervised = 0\n",
    "elif encoder_type == 'supervised':\n",
    "    ssl_encoder =  0\n",
    "    unsupervised = 0\n",
    "elif encoder_type == 'PCA': \n",
    "    unsupervised = 1\n",
    "    set_pca = 1\n",
    "elif encoder_type == 'NMF':\n",
    "    unsupervised = 1\n",
    "    set_pca = 0\n",
    "else:\n",
    "    print(\"Incorrectly specified encoder type\")"
   ]
  },
  {
   "cell_type": "markdown",
   "metadata": {},
   "source": [
    "### Specify Cutout Coordinates\n",
    "\n",
    "Cutout coordinates are specified in the task 3 JSON file found at MTNeuro/taskconfig/task3.json."
   ]
  },
  {
   "cell_type": "code",
   "execution_count": 11,
   "metadata": {},
   "outputs": [],
   "source": [
    "config_file_path = \"../MTNeuro/taskconfig/task3.json\"\n",
    "\n",
    "try:\n",
    "    jsonFile = open(config_file_path, 'r')\n",
    "    slices = json.load(jsonFile)\n",
    "except IOError:\n",
    "    print(\"JSON file not found.\")\n",
    "jsonFile.close()    "
   ]
  },
  {
   "cell_type": "markdown",
   "metadata": {},
   "source": [
    "#### Downloading Annotations Specified in JSON File\n",
    "\n",
    "Each cutout from each region of the brain has shape (Z,Y,X) = (360,256,256). \n",
    "\n",
    "All 4 cutouts are concatenated together along the z-axis to form `data_array_raw` and `data_array_anno`, which both have shape (1440,256,256)."
   ]
  },
  {
   "cell_type": "code",
   "execution_count": 12,
   "metadata": {},
   "outputs": [
    {
     "name": "stderr",
     "output_type": "stream",
     "text": [
      "c:\\Users\\Christopher Liding\\AppData\\Local\\Programs\\Python\\Python310\\lib\\site-packages\\intern\\remote\\remote.py:100: DeprecationWarning: This method will be removed in future versions.  Use 'parser.read_file()' instead.\n",
      "  cfg_parser.readfp(config_handle)\n"
     ]
    },
    {
     "name": "stdout",
     "output_type": "stream",
     "text": [
      "Downloading annos...\n"
     ]
    },
    {
     "name": "stderr",
     "output_type": "stream",
     "text": [
      "c:\\Users\\Christopher Liding\\AppData\\Local\\Programs\\Python\\Python310\\lib\\site-packages\\intern\\service\\boss\\v1\\volume.py:299: DeprecationWarning: The binary mode of fromstring is deprecated, as it behaves surprisingly on unicode inputs. Use frombuffer instead\n",
      "  data_mat = np.fromstring(raw_data, dtype=resource.datatype)\n",
      "c:\\Users\\Christopher Liding\\AppData\\Local\\Programs\\Python\\Python310\\lib\\site-packages\\intern\\service\\boss\\v1\\volume.py:299: DeprecationWarning: The binary mode of fromstring is deprecated, as it behaves surprisingly on unicode inputs. Use frombuffer instead\n",
      "  data_mat = np.fromstring(raw_data, dtype=resource.datatype)\n",
      "c:\\Users\\Christopher Liding\\AppData\\Local\\Programs\\Python\\Python310\\lib\\site-packages\\intern\\remote\\remote.py:100: DeprecationWarning: This method will be removed in future versions.  Use 'parser.read_file()' instead.\n",
      "  cfg_parser.readfp(config_handle)\n"
     ]
    },
    {
     "name": "stdout",
     "output_type": "stream",
     "text": [
      "Downloading annos...\n"
     ]
    },
    {
     "name": "stderr",
     "output_type": "stream",
     "text": [
      "c:\\Users\\Christopher Liding\\AppData\\Local\\Programs\\Python\\Python310\\lib\\site-packages\\intern\\service\\boss\\v1\\volume.py:299: DeprecationWarning: The binary mode of fromstring is deprecated, as it behaves surprisingly on unicode inputs. Use frombuffer instead\n",
      "  data_mat = np.fromstring(raw_data, dtype=resource.datatype)\n",
      "c:\\Users\\Christopher Liding\\AppData\\Local\\Programs\\Python\\Python310\\lib\\site-packages\\intern\\service\\boss\\v1\\volume.py:299: DeprecationWarning: The binary mode of fromstring is deprecated, as it behaves surprisingly on unicode inputs. Use frombuffer instead\n",
      "  data_mat = np.fromstring(raw_data, dtype=resource.datatype)\n",
      "c:\\Users\\Christopher Liding\\AppData\\Local\\Programs\\Python\\Python310\\lib\\site-packages\\intern\\remote\\remote.py:100: DeprecationWarning: This method will be removed in future versions.  Use 'parser.read_file()' instead.\n",
      "  cfg_parser.readfp(config_handle)\n"
     ]
    },
    {
     "name": "stdout",
     "output_type": "stream",
     "text": [
      "Downloading annos...\n"
     ]
    },
    {
     "name": "stderr",
     "output_type": "stream",
     "text": [
      "c:\\Users\\Christopher Liding\\AppData\\Local\\Programs\\Python\\Python310\\lib\\site-packages\\intern\\service\\boss\\v1\\volume.py:299: DeprecationWarning: The binary mode of fromstring is deprecated, as it behaves surprisingly on unicode inputs. Use frombuffer instead\n",
      "  data_mat = np.fromstring(raw_data, dtype=resource.datatype)\n",
      "c:\\Users\\Christopher Liding\\AppData\\Local\\Programs\\Python\\Python310\\lib\\site-packages\\intern\\service\\boss\\v1\\volume.py:299: DeprecationWarning: The binary mode of fromstring is deprecated, as it behaves surprisingly on unicode inputs. Use frombuffer instead\n",
      "  data_mat = np.fromstring(raw_data, dtype=resource.datatype)\n",
      "c:\\Users\\Christopher Liding\\AppData\\Local\\Programs\\Python\\Python310\\lib\\site-packages\\intern\\remote\\remote.py:100: DeprecationWarning: This method will be removed in future versions.  Use 'parser.read_file()' instead.\n",
      "  cfg_parser.readfp(config_handle)\n"
     ]
    },
    {
     "name": "stdout",
     "output_type": "stream",
     "text": [
      "Downloading annos...\n"
     ]
    },
    {
     "name": "stderr",
     "output_type": "stream",
     "text": [
      "c:\\Users\\Christopher Liding\\AppData\\Local\\Programs\\Python\\Python310\\lib\\site-packages\\intern\\service\\boss\\v1\\volume.py:299: DeprecationWarning: The binary mode of fromstring is deprecated, as it behaves surprisingly on unicode inputs. Use frombuffer instead\n",
      "  data_mat = np.fromstring(raw_data, dtype=resource.datatype)\n",
      "c:\\Users\\Christopher Liding\\AppData\\Local\\Programs\\Python\\Python310\\lib\\site-packages\\intern\\service\\boss\\v1\\volume.py:299: DeprecationWarning: The binary mode of fromstring is deprecated, as it behaves surprisingly on unicode inputs. Use frombuffer instead\n",
      "  data_mat = np.fromstring(raw_data, dtype=resource.datatype)\n"
     ]
    }
   ],
   "source": [
    "#Retrieving Data from JSON\n",
    "xrange_list = [slices['xrange_cor'],slices['xrange_stri'],slices['xrange_vp'],slices['xrange_zi']]\n",
    "yrange_list = [slices['yrange_cor'],slices['yrange_stri'],slices['yrange_vp'],slices['yrange_zi']]\n",
    "class_list = [\"Cortex\",\"Striatum\",\"VP\",\"ZI\"]\n",
    "zrange = slices['zrange']\n",
    "\n",
    "\n",
    "boss_dict = {}\n",
    "boss_dict['image_chan']=slices['image_chan']\n",
    "boss_dict['annotation_chan'] = slices['annotation_chan']\n",
    "\n",
    "data_array_raw = []\n",
    "data_array_anno = []\n",
    "label_array  = []\n",
    "up_sample = 4 \n",
    "\n",
    "#Pulling Data from BossDB\n",
    "for i in range(0,len(xrange_list)):\n",
    "    cutout_data_raw,cutout_data_anno = get_cutout_data(xrange_list[i],yrange_list[i],zrange,name=class_list[i])\n",
    "    \n",
    "    data_raw = cutout_data_raw[:,:,:]\n",
    "    data_anno = cutout_data_anno[:,:,:]\n",
    "    data_array_raw = np.concatenate((data_array_raw,data_raw),axis =0 ) if len(data_array_raw) else data_raw \n",
    "    \n",
    "    data_array_anno = np.concatenate((data_array_anno,data_anno),axis =0 ) if len(data_array_anno) else data_anno\n",
    "    \n",
    "    labels = i*np.ones(up_sample*len(data_raw)).reshape(-1,)\n",
    "    label_array  = np.concatenate((label_array ,labels),axis =0) if len(labels) else labels_train"
   ]
  },
  {
   "cell_type": "markdown",
   "metadata": {},
   "source": [
    "### Extracting Features and Calculating Linear Readout Scores"
   ]
  },
  {
   "cell_type": "code",
   "execution_count": 13,
   "metadata": {},
   "outputs": [
    {
     "name": "stdout",
     "output_type": "stream",
     "text": [
      "Extracting cell stats...\n",
      "Extracting axon stats...\n",
      "Extracting blood stats...\n"
     ]
    },
    {
     "name": "stderr",
     "output_type": "stream",
     "text": [
      "c:\\Users\\Christopher Liding\\AppData\\Local\\Programs\\Python\\Python310\\lib\\site-packages\\torchvision\\transforms\\transforms.py:332: UserWarning: Argument interpolation should be of type InterpolationMode instead of int. Please, use InterpolationMode enum.\n",
      "  warnings.warn(\n"
     ]
    },
    {
     "data": {
      "text/html": [
       "<pre style=\"white-space:pre;overflow-x:auto;line-height:normal;font-family:Menlo,'DejaVu Sans Mono',consolas,'Courier New',monospace\"><span style=\"color: #800000; text-decoration-color: #800000\">╭──────────────────────────── </span><span style=\"color: #800000; text-decoration-color: #800000; font-weight: bold\">Traceback </span><span style=\"color: #bf7f7f; text-decoration-color: #bf7f7f; font-weight: bold\">(most recent call last)</span><span style=\"color: #800000; text-decoration-color: #800000\"> ────────────────────────────╮</span>\n",
       "<span style=\"color: #800000; text-decoration-color: #800000\">│</span> <span style=\"color: #808000; text-decoration-color: #808000\">C:\\Users\\Christopher Liding\\AppData\\Local\\Temp\\ipykernel_27064\\4076191281.py</span>:<span style=\"color: #0000ff; text-decoration-color: #0000ff\">12</span> in <span style=\"color: #00ff00; text-decoration-color: #00ff00\">&lt;cell </span> <span style=\"color: #800000; text-decoration-color: #800000\">│</span>\n",
       "<span style=\"color: #800000; text-decoration-color: #800000\">│</span> <span style=\"color: #00ff00; text-decoration-color: #00ff00\">line: 11&gt;</span>                                                                                 <span style=\"color: #800000; text-decoration-color: #800000\">│</span>\n",
       "<span style=\"color: #800000; text-decoration-color: #800000\">│</span>                                                                                           <span style=\"color: #800000; text-decoration-color: #800000\">│</span>\n",
       "<span style=\"color: #800000; text-decoration-color: #800000\">│</span> <span style=\"color: #800000; text-decoration-color: #800000; font-style: italic\">[Errno 2] No such file or directory: 'C:\\\\Users\\\\Christopher </span>                             <span style=\"color: #800000; text-decoration-color: #800000\">│</span>\n",
       "<span style=\"color: #800000; text-decoration-color: #800000\">│</span> <span style=\"color: #800000; text-decoration-color: #800000; font-style: italic\">Liding\\\\AppData\\\\Local\\\\Temp\\\\ipykernel_27064\\\\4076191281.py'</span>                             <span style=\"color: #800000; text-decoration-color: #800000\">│</span>\n",
       "<span style=\"color: #800000; text-decoration-color: #800000\">│</span>                                                                                           <span style=\"color: #800000; text-decoration-color: #800000\">│</span>\n",
       "<span style=\"color: #800000; text-decoration-color: #800000\">│</span> <span style=\"color: #808000; text-decoration-color: #808000\">c:\\users\\christopher liding\\documents\\github\\mtneuro\\MTNeuro\\annots\\latents.py</span>:<span style=\"color: #0000ff; text-decoration-color: #0000ff\">29</span> in      <span style=\"color: #800000; text-decoration-color: #800000\">│</span>\n",
       "<span style=\"color: #800000; text-decoration-color: #800000\">│</span> <span style=\"color: #00ff00; text-decoration-color: #00ff00\">get_latents</span>                                                                               <span style=\"color: #800000; text-decoration-color: #800000\">│</span>\n",
       "<span style=\"color: #800000; text-decoration-color: #800000\">│</span>                                                                                           <span style=\"color: #800000; text-decoration-color: #800000\">│</span>\n",
       "<span style=\"color: #800000; text-decoration-color: #800000\">│</span>   <span style=\"color: #7f7f7f; text-decoration-color: #7f7f7f\">26 │   │   │   │   │   │   │   │    </span>drop_last=<span style=\"color: #0000ff; text-decoration-color: #0000ff\">False</span>, pin_memory=<span style=\"color: #0000ff; text-decoration-color: #0000ff\">True</span>)                   <span style=\"color: #800000; text-decoration-color: #800000\">│</span>\n",
       "<span style=\"color: #800000; text-decoration-color: #800000\">│</span>   <span style=\"color: #7f7f7f; text-decoration-color: #7f7f7f\">27 │   </span>                                                                                 <span style=\"color: #800000; text-decoration-color: #800000\">│</span>\n",
       "<span style=\"color: #800000; text-decoration-color: #800000\">│</span>   <span style=\"color: #7f7f7f; text-decoration-color: #7f7f7f\">28 │   </span>                                                                                 <span style=\"color: #800000; text-decoration-color: #800000\">│</span>\n",
       "<span style=\"color: #800000; text-decoration-color: #800000\">│</span> <span style=\"color: #800000; text-decoration-color: #800000\">❱ </span>29 <span style=\"color: #7f7f7f; text-decoration-color: #7f7f7f\">│   </span>encoder = resnet_xray(<span style=\"color: #808000; text-decoration-color: #808000\">'resnet18'</span>).to(torch.device(<span style=\"color: #808000; text-decoration-color: #808000\">'cuda:0'</span>))                     <span style=\"color: #800000; text-decoration-color: #800000\">│</span>\n",
       "<span style=\"color: #800000; text-decoration-color: #800000\">│</span>   <span style=\"color: #7f7f7f; text-decoration-color: #7f7f7f\">30 │   </span><span style=\"color: #0000ff; text-decoration-color: #0000ff\">if</span> ssl == <span style=\"color: #0000ff; text-decoration-color: #0000ff\">1</span>:                                                                     <span style=\"color: #800000; text-decoration-color: #800000\">│</span>\n",
       "<span style=\"color: #800000; text-decoration-color: #800000\">│</span>   <span style=\"color: #7f7f7f; text-decoration-color: #7f7f7f\">31 │   │   </span>ckpt_epoch = BYOLTrainer.load_trained_encoder(encoder, ckpt_path= encoder_fi <span style=\"color: #800000; text-decoration-color: #800000\">│</span>\n",
       "<span style=\"color: #800000; text-decoration-color: #800000\">│</span>   <span style=\"color: #7f7f7f; text-decoration-color: #7f7f7f\">32 │   </span>encoder.eval()                                                                   <span style=\"color: #800000; text-decoration-color: #800000\">│</span>\n",
       "<span style=\"color: #800000; text-decoration-color: #800000\">│</span>                                                                                           <span style=\"color: #800000; text-decoration-color: #800000\">│</span>\n",
       "<span style=\"color: #800000; text-decoration-color: #800000\">│</span> <span style=\"color: #808000; text-decoration-color: #808000\">c:\\Users\\Christopher Liding\\AppData\\Local\\Programs\\Python\\Python310\\lib\\site-packages\\tor</span> <span style=\"color: #800000; text-decoration-color: #800000\">│</span>\n",
       "<span style=\"color: #800000; text-decoration-color: #800000\">│</span> <span style=\"color: #808000; text-decoration-color: #808000\">ch\\nn\\modules\\module.py</span>:<span style=\"color: #0000ff; text-decoration-color: #0000ff\">907</span> in <span style=\"color: #00ff00; text-decoration-color: #00ff00\">to</span>                                                         <span style=\"color: #800000; text-decoration-color: #800000\">│</span>\n",
       "<span style=\"color: #800000; text-decoration-color: #800000\">│</span>                                                                                           <span style=\"color: #800000; text-decoration-color: #800000\">│</span>\n",
       "<span style=\"color: #800000; text-decoration-color: #800000\">│</span>   <span style=\"color: #7f7f7f; text-decoration-color: #7f7f7f\"> 904 │   │   │   │   │   │   │   </span>non_blocking, memory_format=convert_to_format)         <span style=\"color: #800000; text-decoration-color: #800000\">│</span>\n",
       "<span style=\"color: #800000; text-decoration-color: #800000\">│</span>   <span style=\"color: #7f7f7f; text-decoration-color: #7f7f7f\"> 905 │   │   │   </span><span style=\"color: #0000ff; text-decoration-color: #0000ff\">return</span> t.to(device, dtype <span style=\"color: #0000ff; text-decoration-color: #0000ff\">if</span> t.is_floating_point() <span style=\"color: #ff00ff; text-decoration-color: #ff00ff\">or</span> t.is_complex() <span style=\"color: #0000ff; text-decoration-color: #0000ff\">e</span> <span style=\"color: #800000; text-decoration-color: #800000\">│</span>\n",
       "<span style=\"color: #800000; text-decoration-color: #800000\">│</span>   <span style=\"color: #7f7f7f; text-decoration-color: #7f7f7f\"> 906 │   │   </span>                                                                           <span style=\"color: #800000; text-decoration-color: #800000\">│</span>\n",
       "<span style=\"color: #800000; text-decoration-color: #800000\">│</span> <span style=\"color: #800000; text-decoration-color: #800000\">❱ </span> 907 <span style=\"color: #7f7f7f; text-decoration-color: #7f7f7f\">│   │   </span><span style=\"color: #0000ff; text-decoration-color: #0000ff\">return</span> <span style=\"color: #00ffff; text-decoration-color: #00ffff\">self</span>._apply(convert)                                                <span style=\"color: #800000; text-decoration-color: #800000\">│</span>\n",
       "<span style=\"color: #800000; text-decoration-color: #800000\">│</span>   <span style=\"color: #7f7f7f; text-decoration-color: #7f7f7f\"> 908 │   </span>                                                                               <span style=\"color: #800000; text-decoration-color: #800000\">│</span>\n",
       "<span style=\"color: #800000; text-decoration-color: #800000\">│</span>   <span style=\"color: #7f7f7f; text-decoration-color: #7f7f7f\"> 909 │   </span><span style=\"color: #0000ff; text-decoration-color: #0000ff\">def</span> <span style=\"color: #00ff00; text-decoration-color: #00ff00\">register_backward_hook</span>(                                                    <span style=\"color: #800000; text-decoration-color: #800000\">│</span>\n",
       "<span style=\"color: #800000; text-decoration-color: #800000\">│</span>   <span style=\"color: #7f7f7f; text-decoration-color: #7f7f7f\"> 910 │   │   </span><span style=\"color: #00ffff; text-decoration-color: #00ffff\">self</span>, hook: Callable[[<span style=\"color: #808000; text-decoration-color: #808000\">'Module'</span>, _grad_t, _grad_t], Union[<span style=\"color: #0000ff; text-decoration-color: #0000ff\">None</span>, Tensor]]    <span style=\"color: #800000; text-decoration-color: #800000\">│</span>\n",
       "<span style=\"color: #800000; text-decoration-color: #800000\">│</span>                                                                                           <span style=\"color: #800000; text-decoration-color: #800000\">│</span>\n",
       "<span style=\"color: #800000; text-decoration-color: #800000\">│</span> <span style=\"color: #808000; text-decoration-color: #808000\">c:\\Users\\Christopher Liding\\AppData\\Local\\Programs\\Python\\Python310\\lib\\site-packages\\tor</span> <span style=\"color: #800000; text-decoration-color: #800000\">│</span>\n",
       "<span style=\"color: #800000; text-decoration-color: #800000\">│</span> <span style=\"color: #808000; text-decoration-color: #808000\">ch\\nn\\modules\\module.py</span>:<span style=\"color: #0000ff; text-decoration-color: #0000ff\">578</span> in <span style=\"color: #00ff00; text-decoration-color: #00ff00\">_apply</span>                                                     <span style=\"color: #800000; text-decoration-color: #800000\">│</span>\n",
       "<span style=\"color: #800000; text-decoration-color: #800000\">│</span>                                                                                           <span style=\"color: #800000; text-decoration-color: #800000\">│</span>\n",
       "<span style=\"color: #800000; text-decoration-color: #800000\">│</span>   <span style=\"color: #7f7f7f; text-decoration-color: #7f7f7f\"> 575 │   </span>                                                                               <span style=\"color: #800000; text-decoration-color: #800000\">│</span>\n",
       "<span style=\"color: #800000; text-decoration-color: #800000\">│</span>   <span style=\"color: #7f7f7f; text-decoration-color: #7f7f7f\"> 576 │   </span><span style=\"color: #0000ff; text-decoration-color: #0000ff\">def</span> <span style=\"color: #00ff00; text-decoration-color: #00ff00\">_apply</span>(<span style=\"color: #00ffff; text-decoration-color: #00ffff\">self</span>, fn):                                                          <span style=\"color: #800000; text-decoration-color: #800000\">│</span>\n",
       "<span style=\"color: #800000; text-decoration-color: #800000\">│</span>   <span style=\"color: #7f7f7f; text-decoration-color: #7f7f7f\"> 577 │   │   </span><span style=\"color: #0000ff; text-decoration-color: #0000ff\">for</span> module <span style=\"color: #ff00ff; text-decoration-color: #ff00ff\">in</span> <span style=\"color: #00ffff; text-decoration-color: #00ffff\">self</span>.children():                                             <span style=\"color: #800000; text-decoration-color: #800000\">│</span>\n",
       "<span style=\"color: #800000; text-decoration-color: #800000\">│</span> <span style=\"color: #800000; text-decoration-color: #800000\">❱ </span> 578 <span style=\"color: #7f7f7f; text-decoration-color: #7f7f7f\">│   │   │   </span>module._apply(fn)                                                      <span style=\"color: #800000; text-decoration-color: #800000\">│</span>\n",
       "<span style=\"color: #800000; text-decoration-color: #800000\">│</span>   <span style=\"color: #7f7f7f; text-decoration-color: #7f7f7f\"> 579 │   │   </span>                                                                           <span style=\"color: #800000; text-decoration-color: #800000\">│</span>\n",
       "<span style=\"color: #800000; text-decoration-color: #800000\">│</span>   <span style=\"color: #7f7f7f; text-decoration-color: #7f7f7f\"> 580 │   │   </span><span style=\"color: #0000ff; text-decoration-color: #0000ff\">def</span> <span style=\"color: #00ff00; text-decoration-color: #00ff00\">compute_should_use_set_data</span>(tensor, tensor_applied):                   <span style=\"color: #800000; text-decoration-color: #800000\">│</span>\n",
       "<span style=\"color: #800000; text-decoration-color: #800000\">│</span>   <span style=\"color: #7f7f7f; text-decoration-color: #7f7f7f\"> 581 │   │   │   </span><span style=\"color: #0000ff; text-decoration-color: #0000ff\">if</span> torch._has_compatible_shallow_copy_type(tensor, tensor_applied):    <span style=\"color: #800000; text-decoration-color: #800000\">│</span>\n",
       "<span style=\"color: #800000; text-decoration-color: #800000\">│</span>                                                                                           <span style=\"color: #800000; text-decoration-color: #800000\">│</span>\n",
       "<span style=\"color: #800000; text-decoration-color: #800000\">│</span> <span style=\"color: #808000; text-decoration-color: #808000\">c:\\Users\\Christopher Liding\\AppData\\Local\\Programs\\Python\\Python310\\lib\\site-packages\\tor</span> <span style=\"color: #800000; text-decoration-color: #800000\">│</span>\n",
       "<span style=\"color: #800000; text-decoration-color: #800000\">│</span> <span style=\"color: #808000; text-decoration-color: #808000\">ch\\nn\\modules\\module.py</span>:<span style=\"color: #0000ff; text-decoration-color: #0000ff\">578</span> in <span style=\"color: #00ff00; text-decoration-color: #00ff00\">_apply</span>                                                     <span style=\"color: #800000; text-decoration-color: #800000\">│</span>\n",
       "<span style=\"color: #800000; text-decoration-color: #800000\">│</span>                                                                                           <span style=\"color: #800000; text-decoration-color: #800000\">│</span>\n",
       "<span style=\"color: #800000; text-decoration-color: #800000\">│</span>   <span style=\"color: #7f7f7f; text-decoration-color: #7f7f7f\"> 575 │   </span>                                                                               <span style=\"color: #800000; text-decoration-color: #800000\">│</span>\n",
       "<span style=\"color: #800000; text-decoration-color: #800000\">│</span>   <span style=\"color: #7f7f7f; text-decoration-color: #7f7f7f\"> 576 │   </span><span style=\"color: #0000ff; text-decoration-color: #0000ff\">def</span> <span style=\"color: #00ff00; text-decoration-color: #00ff00\">_apply</span>(<span style=\"color: #00ffff; text-decoration-color: #00ffff\">self</span>, fn):                                                          <span style=\"color: #800000; text-decoration-color: #800000\">│</span>\n",
       "<span style=\"color: #800000; text-decoration-color: #800000\">│</span>   <span style=\"color: #7f7f7f; text-decoration-color: #7f7f7f\"> 577 │   │   </span><span style=\"color: #0000ff; text-decoration-color: #0000ff\">for</span> module <span style=\"color: #ff00ff; text-decoration-color: #ff00ff\">in</span> <span style=\"color: #00ffff; text-decoration-color: #00ffff\">self</span>.children():                                             <span style=\"color: #800000; text-decoration-color: #800000\">│</span>\n",
       "<span style=\"color: #800000; text-decoration-color: #800000\">│</span> <span style=\"color: #800000; text-decoration-color: #800000\">❱ </span> 578 <span style=\"color: #7f7f7f; text-decoration-color: #7f7f7f\">│   │   │   </span>module._apply(fn)                                                      <span style=\"color: #800000; text-decoration-color: #800000\">│</span>\n",
       "<span style=\"color: #800000; text-decoration-color: #800000\">│</span>   <span style=\"color: #7f7f7f; text-decoration-color: #7f7f7f\"> 579 │   │   </span>                                                                           <span style=\"color: #800000; text-decoration-color: #800000\">│</span>\n",
       "<span style=\"color: #800000; text-decoration-color: #800000\">│</span>   <span style=\"color: #7f7f7f; text-decoration-color: #7f7f7f\"> 580 │   │   </span><span style=\"color: #0000ff; text-decoration-color: #0000ff\">def</span> <span style=\"color: #00ff00; text-decoration-color: #00ff00\">compute_should_use_set_data</span>(tensor, tensor_applied):                   <span style=\"color: #800000; text-decoration-color: #800000\">│</span>\n",
       "<span style=\"color: #800000; text-decoration-color: #800000\">│</span>   <span style=\"color: #7f7f7f; text-decoration-color: #7f7f7f\"> 581 │   │   │   </span><span style=\"color: #0000ff; text-decoration-color: #0000ff\">if</span> torch._has_compatible_shallow_copy_type(tensor, tensor_applied):    <span style=\"color: #800000; text-decoration-color: #800000\">│</span>\n",
       "<span style=\"color: #800000; text-decoration-color: #800000\">│</span>                                                                                           <span style=\"color: #800000; text-decoration-color: #800000\">│</span>\n",
       "<span style=\"color: #800000; text-decoration-color: #800000\">│</span> <span style=\"color: #808000; text-decoration-color: #808000\">c:\\Users\\Christopher Liding\\AppData\\Local\\Programs\\Python\\Python310\\lib\\site-packages\\tor</span> <span style=\"color: #800000; text-decoration-color: #800000\">│</span>\n",
       "<span style=\"color: #800000; text-decoration-color: #800000\">│</span> <span style=\"color: #808000; text-decoration-color: #808000\">ch\\nn\\modules\\module.py</span>:<span style=\"color: #0000ff; text-decoration-color: #0000ff\">601</span> in <span style=\"color: #00ff00; text-decoration-color: #00ff00\">_apply</span>                                                     <span style=\"color: #800000; text-decoration-color: #800000\">│</span>\n",
       "<span style=\"color: #800000; text-decoration-color: #800000\">│</span>                                                                                           <span style=\"color: #800000; text-decoration-color: #800000\">│</span>\n",
       "<span style=\"color: #800000; text-decoration-color: #800000\">│</span>   <span style=\"color: #7f7f7f; text-decoration-color: #7f7f7f\"> 598 │   │   │   # track autograd history of `param_applied`, so we have to use</span>         <span style=\"color: #800000; text-decoration-color: #800000\">│</span>\n",
       "<span style=\"color: #800000; text-decoration-color: #800000\">│</span>   <span style=\"color: #7f7f7f; text-decoration-color: #7f7f7f\"> 599 │   │   │   # `with torch.no_grad():`</span>                                              <span style=\"color: #800000; text-decoration-color: #800000\">│</span>\n",
       "<span style=\"color: #800000; text-decoration-color: #800000\">│</span>   <span style=\"color: #7f7f7f; text-decoration-color: #7f7f7f\"> 600 │   │   │   </span><span style=\"color: #0000ff; text-decoration-color: #0000ff\">with</span> torch.no_grad():                                                  <span style=\"color: #800000; text-decoration-color: #800000\">│</span>\n",
       "<span style=\"color: #800000; text-decoration-color: #800000\">│</span> <span style=\"color: #800000; text-decoration-color: #800000\">❱ </span> 601 <span style=\"color: #7f7f7f; text-decoration-color: #7f7f7f\">│   │   │   │   </span>param_applied = fn(param)                                          <span style=\"color: #800000; text-decoration-color: #800000\">│</span>\n",
       "<span style=\"color: #800000; text-decoration-color: #800000\">│</span>   <span style=\"color: #7f7f7f; text-decoration-color: #7f7f7f\"> 602 │   │   │   </span>should_use_set_data = compute_should_use_set_data(param, param_applied <span style=\"color: #800000; text-decoration-color: #800000\">│</span>\n",
       "<span style=\"color: #800000; text-decoration-color: #800000\">│</span>   <span style=\"color: #7f7f7f; text-decoration-color: #7f7f7f\"> 603 │   │   │   </span><span style=\"color: #0000ff; text-decoration-color: #0000ff\">if</span> should_use_set_data:                                                <span style=\"color: #800000; text-decoration-color: #800000\">│</span>\n",
       "<span style=\"color: #800000; text-decoration-color: #800000\">│</span>   <span style=\"color: #7f7f7f; text-decoration-color: #7f7f7f\"> 604 │   │   │   │   </span>param.data = param_applied                                         <span style=\"color: #800000; text-decoration-color: #800000\">│</span>\n",
       "<span style=\"color: #800000; text-decoration-color: #800000\">│</span>                                                                                           <span style=\"color: #800000; text-decoration-color: #800000\">│</span>\n",
       "<span style=\"color: #800000; text-decoration-color: #800000\">│</span> <span style=\"color: #808000; text-decoration-color: #808000\">c:\\Users\\Christopher Liding\\AppData\\Local\\Programs\\Python\\Python310\\lib\\site-packages\\tor</span> <span style=\"color: #800000; text-decoration-color: #800000\">│</span>\n",
       "<span style=\"color: #800000; text-decoration-color: #800000\">│</span> <span style=\"color: #808000; text-decoration-color: #808000\">ch\\nn\\modules\\module.py</span>:<span style=\"color: #0000ff; text-decoration-color: #0000ff\">905</span> in <span style=\"color: #00ff00; text-decoration-color: #00ff00\">convert</span>                                                    <span style=\"color: #800000; text-decoration-color: #800000\">│</span>\n",
       "<span style=\"color: #800000; text-decoration-color: #800000\">│</span>                                                                                           <span style=\"color: #800000; text-decoration-color: #800000\">│</span>\n",
       "<span style=\"color: #800000; text-decoration-color: #800000\">│</span>   <span style=\"color: #7f7f7f; text-decoration-color: #7f7f7f\"> 902 │   │   │   </span><span style=\"color: #0000ff; text-decoration-color: #0000ff\">if</span> convert_to_format <span style=\"color: #ff00ff; text-decoration-color: #ff00ff\">is</span> <span style=\"color: #ff00ff; text-decoration-color: #ff00ff\">not</span> <span style=\"color: #0000ff; text-decoration-color: #0000ff\">None</span> <span style=\"color: #ff00ff; text-decoration-color: #ff00ff\">and</span> t.dim() <span style=\"color: #ff00ff; text-decoration-color: #ff00ff\">in</span> (<span style=\"color: #0000ff; text-decoration-color: #0000ff\">4</span>, <span style=\"color: #0000ff; text-decoration-color: #0000ff\">5</span>):                <span style=\"color: #800000; text-decoration-color: #800000\">│</span>\n",
       "<span style=\"color: #800000; text-decoration-color: #800000\">│</span>   <span style=\"color: #7f7f7f; text-decoration-color: #7f7f7f\"> 903 │   │   │   │   </span><span style=\"color: #0000ff; text-decoration-color: #0000ff\">return</span> t.to(device, dtype <span style=\"color: #0000ff; text-decoration-color: #0000ff\">if</span> t.is_floating_point() <span style=\"color: #ff00ff; text-decoration-color: #ff00ff\">or</span> t.is_complex <span style=\"color: #800000; text-decoration-color: #800000\">│</span>\n",
       "<span style=\"color: #800000; text-decoration-color: #800000\">│</span>   <span style=\"color: #7f7f7f; text-decoration-color: #7f7f7f\"> 904 │   │   │   │   │   │   │   </span>non_blocking, memory_format=convert_to_format)         <span style=\"color: #800000; text-decoration-color: #800000\">│</span>\n",
       "<span style=\"color: #800000; text-decoration-color: #800000\">│</span> <span style=\"color: #800000; text-decoration-color: #800000\">❱ </span> 905 <span style=\"color: #7f7f7f; text-decoration-color: #7f7f7f\">│   │   │   </span><span style=\"color: #0000ff; text-decoration-color: #0000ff\">return</span> t.to(device, dtype <span style=\"color: #0000ff; text-decoration-color: #0000ff\">if</span> t.is_floating_point() <span style=\"color: #ff00ff; text-decoration-color: #ff00ff\">or</span> t.is_complex() <span style=\"color: #0000ff; text-decoration-color: #0000ff\">e</span> <span style=\"color: #800000; text-decoration-color: #800000\">│</span>\n",
       "<span style=\"color: #800000; text-decoration-color: #800000\">│</span>   <span style=\"color: #7f7f7f; text-decoration-color: #7f7f7f\"> 906 │   │   </span>                                                                           <span style=\"color: #800000; text-decoration-color: #800000\">│</span>\n",
       "<span style=\"color: #800000; text-decoration-color: #800000\">│</span>   <span style=\"color: #7f7f7f; text-decoration-color: #7f7f7f\"> 907 │   │   </span><span style=\"color: #0000ff; text-decoration-color: #0000ff\">return</span> <span style=\"color: #00ffff; text-decoration-color: #00ffff\">self</span>._apply(convert)                                                <span style=\"color: #800000; text-decoration-color: #800000\">│</span>\n",
       "<span style=\"color: #800000; text-decoration-color: #800000\">│</span>   <span style=\"color: #7f7f7f; text-decoration-color: #7f7f7f\"> 908 </span>                                                                                   <span style=\"color: #800000; text-decoration-color: #800000\">│</span>\n",
       "<span style=\"color: #800000; text-decoration-color: #800000\">│</span>                                                                                           <span style=\"color: #800000; text-decoration-color: #800000\">│</span>\n",
       "<span style=\"color: #800000; text-decoration-color: #800000\">│</span> <span style=\"color: #808000; text-decoration-color: #808000\">c:\\Users\\Christopher Liding\\AppData\\Local\\Programs\\Python\\Python310\\lib\\site-packages\\tor</span> <span style=\"color: #800000; text-decoration-color: #800000\">│</span>\n",
       "<span style=\"color: #800000; text-decoration-color: #800000\">│</span> <span style=\"color: #808000; text-decoration-color: #808000\">ch\\cuda\\__init__.py</span>:<span style=\"color: #0000ff; text-decoration-color: #0000ff\">210</span> in <span style=\"color: #00ff00; text-decoration-color: #00ff00\">_lazy_init</span>                                                     <span style=\"color: #800000; text-decoration-color: #800000\">│</span>\n",
       "<span style=\"color: #800000; text-decoration-color: #800000\">│</span>                                                                                           <span style=\"color: #800000; text-decoration-color: #800000\">│</span>\n",
       "<span style=\"color: #800000; text-decoration-color: #800000\">│</span>   <span style=\"color: #7f7f7f; text-decoration-color: #7f7f7f\">207 │   │   │   │   </span><span style=\"color: #808000; text-decoration-color: #808000\">\"Cannot re-initialize CUDA in forked subprocess. To use CUDA with \"</span> <span style=\"color: #800000; text-decoration-color: #800000\">│</span>\n",
       "<span style=\"color: #800000; text-decoration-color: #800000\">│</span>   <span style=\"color: #7f7f7f; text-decoration-color: #7f7f7f\">208 │   │   │   │   </span><span style=\"color: #808000; text-decoration-color: #808000\">\"multiprocessing, you must use the 'spawn' start method\"</span>)           <span style=\"color: #800000; text-decoration-color: #800000\">│</span>\n",
       "<span style=\"color: #800000; text-decoration-color: #800000\">│</span>   <span style=\"color: #7f7f7f; text-decoration-color: #7f7f7f\">209 │   │   </span><span style=\"color: #0000ff; text-decoration-color: #0000ff\">if</span> <span style=\"color: #ff00ff; text-decoration-color: #ff00ff\">not</span> <span style=\"color: #00ffff; text-decoration-color: #00ffff\">hasattr</span>(torch._C, <span style=\"color: #808000; text-decoration-color: #808000\">'_cuda_getDeviceCount'</span>):                           <span style=\"color: #800000; text-decoration-color: #800000\">│</span>\n",
       "<span style=\"color: #800000; text-decoration-color: #800000\">│</span> <span style=\"color: #800000; text-decoration-color: #800000\">❱ </span>210 <span style=\"color: #7f7f7f; text-decoration-color: #7f7f7f\">│   │   │   </span><span style=\"color: #0000ff; text-decoration-color: #0000ff\">raise</span> <span style=\"color: #00ffff; text-decoration-color: #00ffff\">AssertionError</span>(<span style=\"color: #808000; text-decoration-color: #808000\">\"Torch not compiled with CUDA enabled\"</span>)            <span style=\"color: #800000; text-decoration-color: #800000\">│</span>\n",
       "<span style=\"color: #800000; text-decoration-color: #800000\">│</span>   <span style=\"color: #7f7f7f; text-decoration-color: #7f7f7f\">211 │   │   </span><span style=\"color: #0000ff; text-decoration-color: #0000ff\">if</span> _cudart <span style=\"color: #ff00ff; text-decoration-color: #ff00ff\">is</span> <span style=\"color: #0000ff; text-decoration-color: #0000ff\">None</span>:                                                         <span style=\"color: #800000; text-decoration-color: #800000\">│</span>\n",
       "<span style=\"color: #800000; text-decoration-color: #800000\">│</span>   <span style=\"color: #7f7f7f; text-decoration-color: #7f7f7f\">212 │   │   │   </span><span style=\"color: #0000ff; text-decoration-color: #0000ff\">raise</span> <span style=\"color: #00ffff; text-decoration-color: #00ffff\">AssertionError</span>(                                                   <span style=\"color: #800000; text-decoration-color: #800000\">│</span>\n",
       "<span style=\"color: #800000; text-decoration-color: #800000\">│</span>   <span style=\"color: #7f7f7f; text-decoration-color: #7f7f7f\">213 │   │   │   │   </span><span style=\"color: #808000; text-decoration-color: #808000\">\"libcudart functions unavailable. It looks like you have a broken b</span> <span style=\"color: #800000; text-decoration-color: #800000\">│</span>\n",
       "<span style=\"color: #800000; text-decoration-color: #800000\">╰───────────────────────────────────────────────────────────────────────────────────────────╯</span>\n",
       "<span style=\"color: #ff0000; text-decoration-color: #ff0000; font-weight: bold\">AssertionError: </span>Torch not compiled with CUDA enabled\n",
       "</pre>\n"
      ],
      "text/plain": [
       "\u001b[31m╭─\u001b[0m\u001b[31m─────────────────────────── \u001b[0m\u001b[1;31mTraceback \u001b[0m\u001b[1;2;31m(most recent call last)\u001b[0m\u001b[31m ───────────────────────────\u001b[0m\u001b[31m─╮\u001b[0m\n",
       "\u001b[31m│\u001b[0m \u001b[33mC:\\Users\\Christopher Liding\\AppData\\Local\\Temp\\ipykernel_27064\\4076191281.py\u001b[0m:\u001b[94m12\u001b[0m in \u001b[92m<cell \u001b[0m \u001b[31m│\u001b[0m\n",
       "\u001b[31m│\u001b[0m \u001b[92mline: 11>\u001b[0m                                                                                 \u001b[31m│\u001b[0m\n",
       "\u001b[31m│\u001b[0m                                                                                           \u001b[31m│\u001b[0m\n",
       "\u001b[31m│\u001b[0m \u001b[3;31m[Errno 2] No such file or directory: 'C:\\\\Users\\\\Christopher \u001b[0m                             \u001b[31m│\u001b[0m\n",
       "\u001b[31m│\u001b[0m \u001b[3;31mLiding\\\\AppData\\\\Local\\\\Temp\\\\ipykernel_27064\\\\4076191281.py'\u001b[0m                             \u001b[31m│\u001b[0m\n",
       "\u001b[31m│\u001b[0m                                                                                           \u001b[31m│\u001b[0m\n",
       "\u001b[31m│\u001b[0m \u001b[33mc:\\users\\christopher liding\\documents\\github\\mtneuro\\MTNeuro\\annots\\latents.py\u001b[0m:\u001b[94m29\u001b[0m in      \u001b[31m│\u001b[0m\n",
       "\u001b[31m│\u001b[0m \u001b[92mget_latents\u001b[0m                                                                               \u001b[31m│\u001b[0m\n",
       "\u001b[31m│\u001b[0m                                                                                           \u001b[31m│\u001b[0m\n",
       "\u001b[31m│\u001b[0m   \u001b[2m26 \u001b[0m\u001b[2m│   │   │   │   │   │   │   │    \u001b[0mdrop_last=\u001b[94mFalse\u001b[0m, pin_memory=\u001b[94mTrue\u001b[0m)                   \u001b[31m│\u001b[0m\n",
       "\u001b[31m│\u001b[0m   \u001b[2m27 \u001b[0m\u001b[2m│   \u001b[0m                                                                                 \u001b[31m│\u001b[0m\n",
       "\u001b[31m│\u001b[0m   \u001b[2m28 \u001b[0m\u001b[2m│   \u001b[0m                                                                                 \u001b[31m│\u001b[0m\n",
       "\u001b[31m│\u001b[0m \u001b[31m❱ \u001b[0m29 \u001b[2m│   \u001b[0mencoder = resnet_xray(\u001b[33m'\u001b[0m\u001b[33mresnet18\u001b[0m\u001b[33m'\u001b[0m).to(torch.device(\u001b[33m'\u001b[0m\u001b[33mcuda:0\u001b[0m\u001b[33m'\u001b[0m))                     \u001b[31m│\u001b[0m\n",
       "\u001b[31m│\u001b[0m   \u001b[2m30 \u001b[0m\u001b[2m│   \u001b[0m\u001b[94mif\u001b[0m ssl == \u001b[94m1\u001b[0m:                                                                     \u001b[31m│\u001b[0m\n",
       "\u001b[31m│\u001b[0m   \u001b[2m31 \u001b[0m\u001b[2m│   │   \u001b[0mckpt_epoch = BYOLTrainer.load_trained_encoder(encoder, ckpt_path= encoder_fi \u001b[31m│\u001b[0m\n",
       "\u001b[31m│\u001b[0m   \u001b[2m32 \u001b[0m\u001b[2m│   \u001b[0mencoder.eval()                                                                   \u001b[31m│\u001b[0m\n",
       "\u001b[31m│\u001b[0m                                                                                           \u001b[31m│\u001b[0m\n",
       "\u001b[31m│\u001b[0m \u001b[33mc:\\Users\\Christopher Liding\\AppData\\Local\\Programs\\Python\\Python310\\lib\\site-packages\\tor\u001b[0m \u001b[31m│\u001b[0m\n",
       "\u001b[31m│\u001b[0m \u001b[33mch\\nn\\modules\\module.py\u001b[0m:\u001b[94m907\u001b[0m in \u001b[92mto\u001b[0m                                                         \u001b[31m│\u001b[0m\n",
       "\u001b[31m│\u001b[0m                                                                                           \u001b[31m│\u001b[0m\n",
       "\u001b[31m│\u001b[0m   \u001b[2m 904 \u001b[0m\u001b[2m│   │   │   │   │   │   │   \u001b[0mnon_blocking, memory_format=convert_to_format)         \u001b[31m│\u001b[0m\n",
       "\u001b[31m│\u001b[0m   \u001b[2m 905 \u001b[0m\u001b[2m│   │   │   \u001b[0m\u001b[94mreturn\u001b[0m t.to(device, dtype \u001b[94mif\u001b[0m t.is_floating_point() \u001b[95mor\u001b[0m t.is_complex() \u001b[94me\u001b[0m \u001b[31m│\u001b[0m\n",
       "\u001b[31m│\u001b[0m   \u001b[2m 906 \u001b[0m\u001b[2m│   │   \u001b[0m                                                                           \u001b[31m│\u001b[0m\n",
       "\u001b[31m│\u001b[0m \u001b[31m❱ \u001b[0m 907 \u001b[2m│   │   \u001b[0m\u001b[94mreturn\u001b[0m \u001b[96mself\u001b[0m._apply(convert)                                                \u001b[31m│\u001b[0m\n",
       "\u001b[31m│\u001b[0m   \u001b[2m 908 \u001b[0m\u001b[2m│   \u001b[0m                                                                               \u001b[31m│\u001b[0m\n",
       "\u001b[31m│\u001b[0m   \u001b[2m 909 \u001b[0m\u001b[2m│   \u001b[0m\u001b[94mdef\u001b[0m \u001b[92mregister_backward_hook\u001b[0m(                                                    \u001b[31m│\u001b[0m\n",
       "\u001b[31m│\u001b[0m   \u001b[2m 910 \u001b[0m\u001b[2m│   │   \u001b[0m\u001b[96mself\u001b[0m, hook: Callable[[\u001b[33m'\u001b[0m\u001b[33mModule\u001b[0m\u001b[33m'\u001b[0m, _grad_t, _grad_t], Union[\u001b[94mNone\u001b[0m, Tensor]]    \u001b[31m│\u001b[0m\n",
       "\u001b[31m│\u001b[0m                                                                                           \u001b[31m│\u001b[0m\n",
       "\u001b[31m│\u001b[0m \u001b[33mc:\\Users\\Christopher Liding\\AppData\\Local\\Programs\\Python\\Python310\\lib\\site-packages\\tor\u001b[0m \u001b[31m│\u001b[0m\n",
       "\u001b[31m│\u001b[0m \u001b[33mch\\nn\\modules\\module.py\u001b[0m:\u001b[94m578\u001b[0m in \u001b[92m_apply\u001b[0m                                                     \u001b[31m│\u001b[0m\n",
       "\u001b[31m│\u001b[0m                                                                                           \u001b[31m│\u001b[0m\n",
       "\u001b[31m│\u001b[0m   \u001b[2m 575 \u001b[0m\u001b[2m│   \u001b[0m                                                                               \u001b[31m│\u001b[0m\n",
       "\u001b[31m│\u001b[0m   \u001b[2m 576 \u001b[0m\u001b[2m│   \u001b[0m\u001b[94mdef\u001b[0m \u001b[92m_apply\u001b[0m(\u001b[96mself\u001b[0m, fn):                                                          \u001b[31m│\u001b[0m\n",
       "\u001b[31m│\u001b[0m   \u001b[2m 577 \u001b[0m\u001b[2m│   │   \u001b[0m\u001b[94mfor\u001b[0m module \u001b[95min\u001b[0m \u001b[96mself\u001b[0m.children():                                             \u001b[31m│\u001b[0m\n",
       "\u001b[31m│\u001b[0m \u001b[31m❱ \u001b[0m 578 \u001b[2m│   │   │   \u001b[0mmodule._apply(fn)                                                      \u001b[31m│\u001b[0m\n",
       "\u001b[31m│\u001b[0m   \u001b[2m 579 \u001b[0m\u001b[2m│   │   \u001b[0m                                                                           \u001b[31m│\u001b[0m\n",
       "\u001b[31m│\u001b[0m   \u001b[2m 580 \u001b[0m\u001b[2m│   │   \u001b[0m\u001b[94mdef\u001b[0m \u001b[92mcompute_should_use_set_data\u001b[0m(tensor, tensor_applied):                   \u001b[31m│\u001b[0m\n",
       "\u001b[31m│\u001b[0m   \u001b[2m 581 \u001b[0m\u001b[2m│   │   │   \u001b[0m\u001b[94mif\u001b[0m torch._has_compatible_shallow_copy_type(tensor, tensor_applied):    \u001b[31m│\u001b[0m\n",
       "\u001b[31m│\u001b[0m                                                                                           \u001b[31m│\u001b[0m\n",
       "\u001b[31m│\u001b[0m \u001b[33mc:\\Users\\Christopher Liding\\AppData\\Local\\Programs\\Python\\Python310\\lib\\site-packages\\tor\u001b[0m \u001b[31m│\u001b[0m\n",
       "\u001b[31m│\u001b[0m \u001b[33mch\\nn\\modules\\module.py\u001b[0m:\u001b[94m578\u001b[0m in \u001b[92m_apply\u001b[0m                                                     \u001b[31m│\u001b[0m\n",
       "\u001b[31m│\u001b[0m                                                                                           \u001b[31m│\u001b[0m\n",
       "\u001b[31m│\u001b[0m   \u001b[2m 575 \u001b[0m\u001b[2m│   \u001b[0m                                                                               \u001b[31m│\u001b[0m\n",
       "\u001b[31m│\u001b[0m   \u001b[2m 576 \u001b[0m\u001b[2m│   \u001b[0m\u001b[94mdef\u001b[0m \u001b[92m_apply\u001b[0m(\u001b[96mself\u001b[0m, fn):                                                          \u001b[31m│\u001b[0m\n",
       "\u001b[31m│\u001b[0m   \u001b[2m 577 \u001b[0m\u001b[2m│   │   \u001b[0m\u001b[94mfor\u001b[0m module \u001b[95min\u001b[0m \u001b[96mself\u001b[0m.children():                                             \u001b[31m│\u001b[0m\n",
       "\u001b[31m│\u001b[0m \u001b[31m❱ \u001b[0m 578 \u001b[2m│   │   │   \u001b[0mmodule._apply(fn)                                                      \u001b[31m│\u001b[0m\n",
       "\u001b[31m│\u001b[0m   \u001b[2m 579 \u001b[0m\u001b[2m│   │   \u001b[0m                                                                           \u001b[31m│\u001b[0m\n",
       "\u001b[31m│\u001b[0m   \u001b[2m 580 \u001b[0m\u001b[2m│   │   \u001b[0m\u001b[94mdef\u001b[0m \u001b[92mcompute_should_use_set_data\u001b[0m(tensor, tensor_applied):                   \u001b[31m│\u001b[0m\n",
       "\u001b[31m│\u001b[0m   \u001b[2m 581 \u001b[0m\u001b[2m│   │   │   \u001b[0m\u001b[94mif\u001b[0m torch._has_compatible_shallow_copy_type(tensor, tensor_applied):    \u001b[31m│\u001b[0m\n",
       "\u001b[31m│\u001b[0m                                                                                           \u001b[31m│\u001b[0m\n",
       "\u001b[31m│\u001b[0m \u001b[33mc:\\Users\\Christopher Liding\\AppData\\Local\\Programs\\Python\\Python310\\lib\\site-packages\\tor\u001b[0m \u001b[31m│\u001b[0m\n",
       "\u001b[31m│\u001b[0m \u001b[33mch\\nn\\modules\\module.py\u001b[0m:\u001b[94m601\u001b[0m in \u001b[92m_apply\u001b[0m                                                     \u001b[31m│\u001b[0m\n",
       "\u001b[31m│\u001b[0m                                                                                           \u001b[31m│\u001b[0m\n",
       "\u001b[31m│\u001b[0m   \u001b[2m 598 \u001b[0m\u001b[2m│   │   │   \u001b[0m\u001b[2m# track autograd history of `param_applied`, so we have to use\u001b[0m         \u001b[31m│\u001b[0m\n",
       "\u001b[31m│\u001b[0m   \u001b[2m 599 \u001b[0m\u001b[2m│   │   │   \u001b[0m\u001b[2m# `with torch.no_grad():`\u001b[0m                                              \u001b[31m│\u001b[0m\n",
       "\u001b[31m│\u001b[0m   \u001b[2m 600 \u001b[0m\u001b[2m│   │   │   \u001b[0m\u001b[94mwith\u001b[0m torch.no_grad():                                                  \u001b[31m│\u001b[0m\n",
       "\u001b[31m│\u001b[0m \u001b[31m❱ \u001b[0m 601 \u001b[2m│   │   │   │   \u001b[0mparam_applied = fn(param)                                          \u001b[31m│\u001b[0m\n",
       "\u001b[31m│\u001b[0m   \u001b[2m 602 \u001b[0m\u001b[2m│   │   │   \u001b[0mshould_use_set_data = compute_should_use_set_data(param, param_applied \u001b[31m│\u001b[0m\n",
       "\u001b[31m│\u001b[0m   \u001b[2m 603 \u001b[0m\u001b[2m│   │   │   \u001b[0m\u001b[94mif\u001b[0m should_use_set_data:                                                \u001b[31m│\u001b[0m\n",
       "\u001b[31m│\u001b[0m   \u001b[2m 604 \u001b[0m\u001b[2m│   │   │   │   \u001b[0mparam.data = param_applied                                         \u001b[31m│\u001b[0m\n",
       "\u001b[31m│\u001b[0m                                                                                           \u001b[31m│\u001b[0m\n",
       "\u001b[31m│\u001b[0m \u001b[33mc:\\Users\\Christopher Liding\\AppData\\Local\\Programs\\Python\\Python310\\lib\\site-packages\\tor\u001b[0m \u001b[31m│\u001b[0m\n",
       "\u001b[31m│\u001b[0m \u001b[33mch\\nn\\modules\\module.py\u001b[0m:\u001b[94m905\u001b[0m in \u001b[92mconvert\u001b[0m                                                    \u001b[31m│\u001b[0m\n",
       "\u001b[31m│\u001b[0m                                                                                           \u001b[31m│\u001b[0m\n",
       "\u001b[31m│\u001b[0m   \u001b[2m 902 \u001b[0m\u001b[2m│   │   │   \u001b[0m\u001b[94mif\u001b[0m convert_to_format \u001b[95mis\u001b[0m \u001b[95mnot\u001b[0m \u001b[94mNone\u001b[0m \u001b[95mand\u001b[0m t.dim() \u001b[95min\u001b[0m (\u001b[94m4\u001b[0m, \u001b[94m5\u001b[0m):                \u001b[31m│\u001b[0m\n",
       "\u001b[31m│\u001b[0m   \u001b[2m 903 \u001b[0m\u001b[2m│   │   │   │   \u001b[0m\u001b[94mreturn\u001b[0m t.to(device, dtype \u001b[94mif\u001b[0m t.is_floating_point() \u001b[95mor\u001b[0m t.is_complex \u001b[31m│\u001b[0m\n",
       "\u001b[31m│\u001b[0m   \u001b[2m 904 \u001b[0m\u001b[2m│   │   │   │   │   │   │   \u001b[0mnon_blocking, memory_format=convert_to_format)         \u001b[31m│\u001b[0m\n",
       "\u001b[31m│\u001b[0m \u001b[31m❱ \u001b[0m 905 \u001b[2m│   │   │   \u001b[0m\u001b[94mreturn\u001b[0m t.to(device, dtype \u001b[94mif\u001b[0m t.is_floating_point() \u001b[95mor\u001b[0m t.is_complex() \u001b[94me\u001b[0m \u001b[31m│\u001b[0m\n",
       "\u001b[31m│\u001b[0m   \u001b[2m 906 \u001b[0m\u001b[2m│   │   \u001b[0m                                                                           \u001b[31m│\u001b[0m\n",
       "\u001b[31m│\u001b[0m   \u001b[2m 907 \u001b[0m\u001b[2m│   │   \u001b[0m\u001b[94mreturn\u001b[0m \u001b[96mself\u001b[0m._apply(convert)                                                \u001b[31m│\u001b[0m\n",
       "\u001b[31m│\u001b[0m   \u001b[2m 908 \u001b[0m                                                                                   \u001b[31m│\u001b[0m\n",
       "\u001b[31m│\u001b[0m                                                                                           \u001b[31m│\u001b[0m\n",
       "\u001b[31m│\u001b[0m \u001b[33mc:\\Users\\Christopher Liding\\AppData\\Local\\Programs\\Python\\Python310\\lib\\site-packages\\tor\u001b[0m \u001b[31m│\u001b[0m\n",
       "\u001b[31m│\u001b[0m \u001b[33mch\\cuda\\__init__.py\u001b[0m:\u001b[94m210\u001b[0m in \u001b[92m_lazy_init\u001b[0m                                                     \u001b[31m│\u001b[0m\n",
       "\u001b[31m│\u001b[0m                                                                                           \u001b[31m│\u001b[0m\n",
       "\u001b[31m│\u001b[0m   \u001b[2m207 \u001b[0m\u001b[2m│   │   │   │   \u001b[0m\u001b[33m\"\u001b[0m\u001b[33mCannot re-initialize CUDA in forked subprocess. To use CUDA with \u001b[0m\u001b[33m\"\u001b[0m \u001b[31m│\u001b[0m\n",
       "\u001b[31m│\u001b[0m   \u001b[2m208 \u001b[0m\u001b[2m│   │   │   │   \u001b[0m\u001b[33m\"\u001b[0m\u001b[33mmultiprocessing, you must use the \u001b[0m\u001b[33m'\u001b[0m\u001b[33mspawn\u001b[0m\u001b[33m'\u001b[0m\u001b[33m start method\u001b[0m\u001b[33m\"\u001b[0m)           \u001b[31m│\u001b[0m\n",
       "\u001b[31m│\u001b[0m   \u001b[2m209 \u001b[0m\u001b[2m│   │   \u001b[0m\u001b[94mif\u001b[0m \u001b[95mnot\u001b[0m \u001b[96mhasattr\u001b[0m(torch._C, \u001b[33m'\u001b[0m\u001b[33m_cuda_getDeviceCount\u001b[0m\u001b[33m'\u001b[0m):                           \u001b[31m│\u001b[0m\n",
       "\u001b[31m│\u001b[0m \u001b[31m❱ \u001b[0m210 \u001b[2m│   │   │   \u001b[0m\u001b[94mraise\u001b[0m \u001b[96mAssertionError\u001b[0m(\u001b[33m\"\u001b[0m\u001b[33mTorch not compiled with CUDA enabled\u001b[0m\u001b[33m\"\u001b[0m)            \u001b[31m│\u001b[0m\n",
       "\u001b[31m│\u001b[0m   \u001b[2m211 \u001b[0m\u001b[2m│   │   \u001b[0m\u001b[94mif\u001b[0m _cudart \u001b[95mis\u001b[0m \u001b[94mNone\u001b[0m:                                                         \u001b[31m│\u001b[0m\n",
       "\u001b[31m│\u001b[0m   \u001b[2m212 \u001b[0m\u001b[2m│   │   │   \u001b[0m\u001b[94mraise\u001b[0m \u001b[96mAssertionError\u001b[0m(                                                   \u001b[31m│\u001b[0m\n",
       "\u001b[31m│\u001b[0m   \u001b[2m213 \u001b[0m\u001b[2m│   │   │   │   \u001b[0m\u001b[33m\"\u001b[0m\u001b[33mlibcudart functions unavailable. It looks like you have a broken b\u001b[0m \u001b[31m│\u001b[0m\n",
       "\u001b[31m╰───────────────────────────────────────────────────────────────────────────────────────────╯\u001b[0m\n",
       "\u001b[1;91mAssertionError: \u001b[0mTorch not compiled with CUDA enabled\n"
      ]
     },
     "metadata": {},
     "output_type": "display_data"
    }
   ],
   "source": [
    "print('Extracting cell stats...')\n",
    "stats_cell= extract_cell_stats(np.copy(data_array_anno))\n",
    "\n",
    "print('Extracting axon stats...')\n",
    "stats_axon = extract_axon_stats(np.copy(data_array_anno))\n",
    "\n",
    "print('Extracting blood stats...')\n",
    "stats_blood = extract_blood_stats(np.copy(data_array_anno))\n",
    "\n",
    "'get results for different encoders'\n",
    "if encoder_type == 'ssl' or encoder_type == 'supervised':\n",
    "    embeddings = get_latents(data_array_raw,encoder_file_path,ssl_encoder)\n",
    "elif encoder_type == 'PCA' or encoder_type == 'NMF':\n",
    "    embeddings = get_unsup_latents(data_array_raw,set_pca)\n",
    "\n",
    "'Get linear readout scores'\n",
    "X = embeddings\n",
    "\n",
    "y = stats_blood[:,1]\n",
    "reg = LinearRegression().fit(X,y)\n",
    "blood_vsl_score = reg.score(embeddings,stats_blood[:,1])\n",
    "print(\"Blood Vessel Score : {}\".format(blood_vsl_score ))\n",
    "\n",
    "y = stats_cell[:,1]\n",
    "reg = LinearRegression().fit(X,y)\n",
    "numb_cell = reg.score(embeddings,stats_cell[:,1])\n",
    "print(\"Cell count:{}\".format(numb_cell))\n",
    "\n",
    "y = stats_cell[:,2]\n",
    "reg = LinearRegression().fit(X,y)\n",
    "avg_dist_nn_cell = reg.score(embeddings,stats_cell[:,2])\n",
    "print(\"cell stat 2 (Avg distance to NN) :{}\".format(avg_dist_nn_cell ))\n",
    "\n",
    "y = stats_cell[:,4]\n",
    "reg = LinearRegression().fit(X,y)\n",
    "cell_size = reg.score(embeddings,stats_cell[:,4])\n",
    "print(\"Cell Size :{}\".format(cell_size))\n",
    "\n",
    "y = stats_axon[:,1]\n",
    "reg = LinearRegression().fit(X,y)\n",
    "axon_rslt = reg.score(embeddings,stats_axon[:,1])\n",
    "print(\"Axon  : {}\".format(axon_rslt ))"
   ]
  }
 ],
 "metadata": {
  "interpreter": {
   "hash": "9f4108ecf01062aca25e5dc86ed0d2b2584059290a9a8508cbbea0875ac6d25a"
  },
  "kernelspec": {
   "display_name": "Python 3 (ipykernel)",
   "language": "python",
   "name": "python3"
  },
  "language_info": {
   "codemirror_mode": {
    "name": "ipython",
    "version": 3
   },
   "file_extension": ".py",
   "mimetype": "text/x-python",
   "name": "python",
   "nbconvert_exporter": "python",
   "pygments_lexer": "ipython3",
   "version": "3.10.1"
  }
 },
 "nbformat": 4,
 "nbformat_minor": 4
}
